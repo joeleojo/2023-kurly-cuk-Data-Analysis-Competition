{
 "cells": [
  {
   "cell_type": "code",
   "execution_count": 11,
   "id": "3cbc5d98",
   "metadata": {},
   "outputs": [
    {
     "name": "stdout",
     "output_type": "stream",
     "text": [
      "키워드 :오아시스마켓\n",
      "\n"
     ]
    },
    {
     "data": {
      "text/html": [
       "<div>\n",
       "<style scoped>\n",
       "    .dataframe tbody tr th:only-of-type {\n",
       "        vertical-align: middle;\n",
       "    }\n",
       "\n",
       "    .dataframe tbody tr th {\n",
       "        vertical-align: top;\n",
       "    }\n",
       "\n",
       "    .dataframe thead th {\n",
       "        text-align: right;\n",
       "    }\n",
       "</style>\n",
       "<table border=\"1\" class=\"dataframe\">\n",
       "  <thead>\n",
       "    <tr style=\"text-align: right;\">\n",
       "      <th></th>\n",
       "      <th>url</th>\n",
       "      <th>title</th>\n",
       "    </tr>\n",
       "  </thead>\n",
       "  <tbody>\n",
       "    <tr>\n",
       "      <th>0</th>\n",
       "      <td>https://blog.naver.com/alsrudch/223254640357</td>\n",
       "      <td>오아시스마켓 3만원으로 일주일 장보기 3인가족</td>\n",
       "    </tr>\n",
       "    <tr>\n",
       "      <th>1</th>\n",
       "      <td>https://blog.naver.com/naltaly/223246418908</td>\n",
       "      <td>오아시스마켓 아이스홍시 추천</td>\n",
       "    </tr>\n",
       "    <tr>\n",
       "      <th>2</th>\n",
       "      <td>https://blog.naver.com/khsi1004i/223238458647</td>\n",
       "      <td>[10월 3주 차] 오아시스마켓... 도시락메뉴 오아시스마켓추천인</td>\n",
       "    </tr>\n",
       "    <tr>\n",
       "      <th>3</th>\n",
       "      <td>https://blog.naver.com/nanacook/223205986722</td>\n",
       "      <td>오아시스마켓 돼지고기 추천 농수산물할인쿠폰 득템</td>\n",
       "    </tr>\n",
       "    <tr>\n",
       "      <th>4</th>\n",
       "      <td>https://blog.naver.com/chdklove/223224233944</td>\n",
       "      <td>새벽배송 오아시스마켓., 후다닥 차린 아침밥상 황태국과...</td>\n",
       "    </tr>\n",
       "    <tr>\n",
       "      <th>...</th>\n",
       "      <td>...</td>\n",
       "      <td>...</td>\n",
       "    </tr>\n",
       "    <tr>\n",
       "      <th>625</th>\n",
       "      <td>https://blog.naver.com/poomini/223203901323</td>\n",
       "      <td>초기이유식 소고기큐브(전자레인지로 5분만에 초간단하게...</td>\n",
       "    </tr>\n",
       "    <tr>\n",
       "      <th>626</th>\n",
       "      <td>https://blog.naver.com/ej5824486/223240713191</td>\n",
       "      <td>애드포스트 수익, 또 3만 원</td>\n",
       "    </tr>\n",
       "    <tr>\n",
       "      <th>627</th>\n",
       "      <td>https://blog.naver.com/sunflomoney/223215593863</td>\n",
       "      <td>신한카드 추천 오아이스 장볼 때 쓰면 좋은 신용카드</td>\n",
       "    </tr>\n",
       "    <tr>\n",
       "      <th>628</th>\n",
       "      <td>https://blog.naver.com/chdklove/223242744487</td>\n",
       "      <td>배달의민족 #이마트몰 #굿웨어몰 #마켓컬리 #CJ더마켓 등등</td>\n",
       "    </tr>\n",
       "    <tr>\n",
       "      <th>629</th>\n",
       "      <td>https://blog.naver.com/glory-eun/223235323131</td>\n",
       "      <td>(나중에 보여주려고 남기는) 4세 4살 어린이집 소풍도시락</td>\n",
       "    </tr>\n",
       "  </tbody>\n",
       "</table>\n",
       "<p>630 rows × 2 columns</p>\n",
       "</div>"
      ],
      "text/plain": [
       "                                                 url  \\\n",
       "0       https://blog.naver.com/alsrudch/223254640357   \n",
       "1        https://blog.naver.com/naltaly/223246418908   \n",
       "2      https://blog.naver.com/khsi1004i/223238458647   \n",
       "3       https://blog.naver.com/nanacook/223205986722   \n",
       "4       https://blog.naver.com/chdklove/223224233944   \n",
       "..                                               ...   \n",
       "625      https://blog.naver.com/poomini/223203901323   \n",
       "626    https://blog.naver.com/ej5824486/223240713191   \n",
       "627  https://blog.naver.com/sunflomoney/223215593863   \n",
       "628     https://blog.naver.com/chdklove/223242744487   \n",
       "629    https://blog.naver.com/glory-eun/223235323131   \n",
       "\n",
       "                                    title  \n",
       "0               오아시스마켓 3만원으로 일주일 장보기 3인가족  \n",
       "1                         오아시스마켓 아이스홍시 추천  \n",
       "2    [10월 3주 차] 오아시스마켓... 도시락메뉴 오아시스마켓추천인  \n",
       "3              오아시스마켓 돼지고기 추천 농수산물할인쿠폰 득템  \n",
       "4       새벽배송 오아시스마켓., 후다닥 차린 아침밥상 황태국과...  \n",
       "..                                    ...  \n",
       "625      초기이유식 소고기큐브(전자레인지로 5분만에 초간단하게...  \n",
       "626                      애드포스트 수익, 또 3만 원  \n",
       "627          신한카드 추천 오아이스 장볼 때 쓰면 좋은 신용카드  \n",
       "628     배달의민족 #이마트몰 #굿웨어몰 #마켓컬리 #CJ더마켓 등등  \n",
       "629      (나중에 보여주려고 남기는) 4세 4살 어린이집 소풍도시락  \n",
       "\n",
       "[630 rows x 2 columns]"
      ]
     },
     "execution_count": 11,
     "metadata": {},
     "output_type": "execute_result"
    }
   ],
   "source": [
    "import sys\n",
    "import os\n",
    "\n",
    "import pandas as pd\n",
    "import numpy as np\n",
    "\n",
    "from bs4 import BeautifulSoup\n",
    "from selenium import webdriver\n",
    "from selenium.webdriver.common.by import By\n",
    "\n",
    "import time\n",
    "from tqdm import tqdm_notebook\n",
    "\n",
    "txt = input(\"키워드 :\")\n",
    "txt\n",
    "\n",
    "driver = webdriver.Chrome()\n",
    "\n",
    "driver.get('http://www.naver.com')\n",
    "time.sleep(3)\n",
    "\n",
    "element = driver.find_element(By.ID,\"query\")\n",
    "element.send_keys(txt)\n",
    "element.submit()\n",
    "\n",
    "view_link = driver.find_element(By.PARTIAL_LINK_TEXT, \"VIEW\")\n",
    "view_link.click()\n",
    "time.sleep(2)\n",
    "\n",
    "blog_link = driver.find_element(By.PARTIAL_LINK_TEXT, \"블로그\")\n",
    "blog_link.click()\n",
    "time.sleep(2)\n",
    "\n",
    "option_link = driver.find_element(By.PARTIAL_LINK_TEXT, \"옵션\")\n",
    "option_link.click()\n",
    "time.sleep(2)\n",
    "\n",
    "\n",
    "item_li = driver.find_elements(By.CSS_SELECTOR, '.option .txt')\n",
    "\n",
    "item_li[11].click()\n",
    "\n",
    "def scroll_down(driver):\n",
    "    driver.execute_script(\"window.scrollTo(0,99999999)\")\n",
    "    time.sleep(2)\n",
    "    \n",
    "n=20\n",
    "i=0\n",
    "while i<n:\n",
    "    scroll_down(driver)\n",
    "    i=i+1\n",
    "time.sleep(2)\n",
    "\n",
    "url_list=[]\n",
    "title_list=[]\n",
    "\n",
    "articles = \"title_link\"\n",
    "article_raw = driver.find_elements(By.CSS_SELECTOR,'.title_link')\n",
    "\n",
    "first_article = article_raw[0]\n",
    "    \n",
    "for article in article_raw:\n",
    "    url = article.get_attribute('href')\n",
    "    url_list.append(url)\n",
    "time.sleep(2)\n",
    "\n",
    "for article in article_raw:\n",
    "    title = article.text\n",
    "    title_list.append(title)\n",
    "\n",
    "print(\"\")       \n",
    "url_list\n",
    "title_list\n",
    "\n",
    "df = pd.DataFrame({'url' : url_list, 'title' : title_list})\n",
    "df\n",
    "\n"
   ]
  },
  {
   "cell_type": "code",
   "execution_count": 12,
   "id": "21a82e80",
   "metadata": {},
   "outputs": [],
   "source": [
    "import pandas as pd\n",
    "df.to_excel(\"네이버블로그크롤링500.xlsx\")"
   ]
  },
  {
   "cell_type": "code",
   "execution_count": 13,
   "id": "ce1b6d50",
   "metadata": {},
   "outputs": [
    {
     "name": "stdout",
     "output_type": "stream",
     "text": [
      "630\n"
     ]
    },
    {
     "data": {
      "text/html": [
       "<div>\n",
       "<style scoped>\n",
       "    .dataframe tbody tr th:only-of-type {\n",
       "        vertical-align: middle;\n",
       "    }\n",
       "\n",
       "    .dataframe tbody tr th {\n",
       "        vertical-align: top;\n",
       "    }\n",
       "\n",
       "    .dataframe thead th {\n",
       "        text-align: right;\n",
       "    }\n",
       "</style>\n",
       "<table border=\"1\" class=\"dataframe\">\n",
       "  <thead>\n",
       "    <tr style=\"text-align: right;\">\n",
       "      <th></th>\n",
       "      <th>url</th>\n",
       "      <th>title</th>\n",
       "    </tr>\n",
       "  </thead>\n",
       "  <tbody>\n",
       "    <tr>\n",
       "      <th>0</th>\n",
       "      <td>https://blog.naver.com/alsrudch/223254640357</td>\n",
       "      <td>오아시스마켓 3만원으로 일주일 장보기 3인가족</td>\n",
       "    </tr>\n",
       "    <tr>\n",
       "      <th>1</th>\n",
       "      <td>https://blog.naver.com/naltaly/223246418908</td>\n",
       "      <td>오아시스마켓 아이스홍시 추천</td>\n",
       "    </tr>\n",
       "    <tr>\n",
       "      <th>2</th>\n",
       "      <td>https://blog.naver.com/khsi1004i/223238458647</td>\n",
       "      <td>[10월 3주 차] 오아시스마켓... 도시락메뉴 오아시스마켓추천인</td>\n",
       "    </tr>\n",
       "    <tr>\n",
       "      <th>3</th>\n",
       "      <td>https://blog.naver.com/nanacook/223205986722</td>\n",
       "      <td>오아시스마켓 돼지고기 추천 농수산물할인쿠폰 득템</td>\n",
       "    </tr>\n",
       "    <tr>\n",
       "      <th>4</th>\n",
       "      <td>https://blog.naver.com/chdklove/223224233944</td>\n",
       "      <td>새벽배송 오아시스마켓., 후다닥 차린 아침밥상 황태국과...</td>\n",
       "    </tr>\n",
       "    <tr>\n",
       "      <th>...</th>\n",
       "      <td>...</td>\n",
       "      <td>...</td>\n",
       "    </tr>\n",
       "    <tr>\n",
       "      <th>625</th>\n",
       "      <td>https://blog.naver.com/poomini/223203901323</td>\n",
       "      <td>초기이유식 소고기큐브(전자레인지로 5분만에 초간단하게...</td>\n",
       "    </tr>\n",
       "    <tr>\n",
       "      <th>626</th>\n",
       "      <td>https://blog.naver.com/ej5824486/223240713191</td>\n",
       "      <td>애드포스트 수익, 또 3만 원</td>\n",
       "    </tr>\n",
       "    <tr>\n",
       "      <th>627</th>\n",
       "      <td>https://blog.naver.com/sunflomoney/223215593863</td>\n",
       "      <td>신한카드 추천 오아이스 장볼 때 쓰면 좋은 신용카드</td>\n",
       "    </tr>\n",
       "    <tr>\n",
       "      <th>628</th>\n",
       "      <td>https://blog.naver.com/chdklove/223242744487</td>\n",
       "      <td>배달의민족 #이마트몰 #굿웨어몰 #마켓컬리 #CJ더마켓 등등</td>\n",
       "    </tr>\n",
       "    <tr>\n",
       "      <th>629</th>\n",
       "      <td>https://blog.naver.com/glory-eun/223235323131</td>\n",
       "      <td>(나중에 보여주려고 남기는) 4세 4살 어린이집 소풍도시락</td>\n",
       "    </tr>\n",
       "  </tbody>\n",
       "</table>\n",
       "<p>630 rows × 2 columns</p>\n",
       "</div>"
      ],
      "text/plain": [
       "                                                 url  \\\n",
       "0       https://blog.naver.com/alsrudch/223254640357   \n",
       "1        https://blog.naver.com/naltaly/223246418908   \n",
       "2      https://blog.naver.com/khsi1004i/223238458647   \n",
       "3       https://blog.naver.com/nanacook/223205986722   \n",
       "4       https://blog.naver.com/chdklove/223224233944   \n",
       "..                                               ...   \n",
       "625      https://blog.naver.com/poomini/223203901323   \n",
       "626    https://blog.naver.com/ej5824486/223240713191   \n",
       "627  https://blog.naver.com/sunflomoney/223215593863   \n",
       "628     https://blog.naver.com/chdklove/223242744487   \n",
       "629    https://blog.naver.com/glory-eun/223235323131   \n",
       "\n",
       "                                    title  \n",
       "0               오아시스마켓 3만원으로 일주일 장보기 3인가족  \n",
       "1                         오아시스마켓 아이스홍시 추천  \n",
       "2    [10월 3주 차] 오아시스마켓... 도시락메뉴 오아시스마켓추천인  \n",
       "3              오아시스마켓 돼지고기 추천 농수산물할인쿠폰 득템  \n",
       "4       새벽배송 오아시스마켓., 후다닥 차린 아침밥상 황태국과...  \n",
       "..                                    ...  \n",
       "625      초기이유식 소고기큐브(전자레인지로 5분만에 초간단하게...  \n",
       "626                      애드포스트 수익, 또 3만 원  \n",
       "627          신한카드 추천 오아이스 장볼 때 쓰면 좋은 신용카드  \n",
       "628     배달의민족 #이마트몰 #굿웨어몰 #마켓컬리 #CJ더마켓 등등  \n",
       "629      (나중에 보여주려고 남기는) 4세 4살 어린이집 소풍도시락  \n",
       "\n",
       "[630 rows x 2 columns]"
      ]
     },
     "execution_count": 13,
     "metadata": {},
     "output_type": "execute_result"
    }
   ],
   "source": [
    "import sys\n",
    "import os\n",
    "import pandas as pd\n",
    "import numpy as np\n",
    "\n",
    "url_load = pd.read_excel(\"네이버블로그크롤링500.xlsx\")\n",
    "url_load = url_load.drop(\"Unnamed: 0\",axis=1)\n",
    "\n",
    "num_list = len(url_load)\n",
    "print(num_list)\n",
    "url_load"
   ]
  },
  {
   "cell_type": "code",
   "execution_count": 14,
   "id": "31542805",
   "metadata": {},
   "outputs": [
    {
     "name": "stderr",
     "output_type": "stream",
     "text": [
      "  0%|▏                                                                               | 1/500 [00:09<1:22:40,  9.94s/it]"
     ]
    },
    {
     "name": "stdout",
     "output_type": "stream",
     "text": [
      "0 오아시스마켓 3만원으로 일주일 장보기 3인가족\n"
     ]
    },
    {
     "name": "stderr",
     "output_type": "stream",
     "text": [
      "\r",
      "  0%|▎                                                                               | 2/500 [00:20<1:24:49, 10.22s/it]"
     ]
    },
    {
     "name": "stdout",
     "output_type": "stream",
     "text": [
      "1 오아시스마켓 아이스홍시 추천\n"
     ]
    },
    {
     "name": "stderr",
     "output_type": "stream",
     "text": [
      "\r",
      "  1%|▍                                                                               | 3/500 [00:31<1:27:10, 10.52s/it]"
     ]
    },
    {
     "name": "stdout",
     "output_type": "stream",
     "text": [
      "2 [10월 3주 차] 오아시스마켓-장보기 일주일식단표 도시락메뉴 오아시스마켓추천인\n"
     ]
    },
    {
     "name": "stderr",
     "output_type": "stream",
     "text": [
      "\r",
      "  1%|▋                                                                               | 4/500 [00:41<1:25:46, 10.38s/it]"
     ]
    },
    {
     "name": "stdout",
     "output_type": "stream",
     "text": [
      "3 오아시스마켓 돼지고기 추천 농수산물할인쿠폰 득템\n"
     ]
    },
    {
     "name": "stderr",
     "output_type": "stream",
     "text": [
      "\r",
      "  1%|▊                                                                               | 5/500 [00:51<1:24:26, 10.24s/it]"
     ]
    },
    {
     "name": "stdout",
     "output_type": "stream",
     "text": [
      "4 새벽배송 오아시스마켓., 후다닥 차린 아침밥상 황태국과 조기구이\n"
     ]
    },
    {
     "name": "stderr",
     "output_type": "stream",
     "text": [
      "\r",
      "  1%|▉                                                                               | 6/500 [01:01<1:23:53, 10.19s/it]"
     ]
    },
    {
     "name": "stdout",
     "output_type": "stream",
     "text": [
      "5 오아시스마켓 추천템~ 갈비탕은 틀렸고 설렁탕은 맞다\n"
     ]
    },
    {
     "name": "stderr",
     "output_type": "stream",
     "text": [
      "\r",
      "  1%|█                                                                               | 7/500 [01:11<1:22:22, 10.02s/it]"
     ]
    },
    {
     "name": "stdout",
     "output_type": "stream",
     "text": [
      "6 오아시스마켓 : 우리밀 고구마 찐빵 : 구매후기\n"
     ]
    },
    {
     "name": "stderr",
     "output_type": "stream",
     "text": [
      "\r",
      "  2%|█▎                                                                              | 8/500 [01:21<1:22:34, 10.07s/it]"
     ]
    },
    {
     "name": "stdout",
     "output_type": "stream",
     "text": [
      "7 한우등심가격 파프리카 구이 오아시스마켓\n"
     ]
    },
    {
     "name": "stderr",
     "output_type": "stream",
     "text": [
      "\r",
      "  2%|█▍                                                                              | 9/500 [01:31<1:22:21, 10.06s/it]"
     ]
    },
    {
     "name": "stdout",
     "output_type": "stream",
     "text": [
      "8 오아시스마켓 42번째 장바구니 세종시 새벽배송\n"
     ]
    },
    {
     "name": "stderr",
     "output_type": "stream",
     "text": [
      "\r",
      "  2%|█▌                                                                             | 10/500 [01:41<1:21:54, 10.03s/it]"
     ]
    },
    {
     "name": "stdout",
     "output_type": "stream",
     "text": [
      "9 <소세지크림파스타> 간단한 레시피로 집에서 스파게티를 만드는 법, 후식 오아시스마켓 경산신비복숭아 좋아요!\n"
     ]
    },
    {
     "name": "stderr",
     "output_type": "stream",
     "text": [
      "\r",
      "  2%|█▋                                                                             | 11/500 [01:50<1:20:49,  9.92s/it]"
     ]
    },
    {
     "name": "stdout",
     "output_type": "stream",
     "text": [
      "10 ‘오아시스마켓’ 장보기 - Kbank members 연계하면 적립 포인트가 많아져요(12월31일까지 연장되었데요)\n"
     ]
    },
    {
     "name": "stderr",
     "output_type": "stream",
     "text": [
      "\r",
      "  2%|█▉                                                                             | 12/500 [02:02<1:24:50, 10.43s/it]"
     ]
    },
    {
     "name": "stdout",
     "output_type": "stream",
     "text": [
      "11 오아시스 마켓 장바구니 / 큰 뼈 없는 왕족발 추천!!\n"
     ]
    },
    {
     "name": "stderr",
     "output_type": "stream",
     "text": [
      "\r",
      "  3%|██                                                                             | 13/500 [02:12<1:24:20, 10.39s/it]"
     ]
    },
    {
     "name": "stdout",
     "output_type": "stream",
     "text": [
      "12 오아시스마켓 가을 제철 과일 후기에요. (사과, 청도 반시, 파인애플)\n"
     ]
    },
    {
     "name": "stderr",
     "output_type": "stream",
     "text": [
      "\r",
      "  3%|██▏                                                                            | 14/500 [02:22<1:23:23, 10.30s/it]"
     ]
    },
    {
     "name": "stdout",
     "output_type": "stream",
     "text": [
      "13 오아시스마켓 장보기랑 반찬 만들기\n"
     ]
    },
    {
     "name": "stderr",
     "output_type": "stream",
     "text": [
      "\r",
      "  3%|██▎                                                                            | 15/500 [02:33<1:23:26, 10.32s/it]"
     ]
    },
    {
     "name": "stdout",
     "output_type": "stream",
     "text": [
      "14 오아시스마켓 가공식품 없는 장바구니 추천인 문어초밥 두부찌개\n"
     ]
    },
    {
     "name": "stderr",
     "output_type": "stream",
     "text": [
      "\r",
      "  3%|██▌                                                                            | 16/500 [02:43<1:23:13, 10.32s/it]"
     ]
    },
    {
     "name": "stdout",
     "output_type": "stream",
     "text": [
      "15 [10월 4주 차] 마켓컬리&오아시스마켓 장보기-추천상품 주간식단 추천템 마이컬리팜\n"
     ]
    },
    {
     "name": "stderr",
     "output_type": "stream",
     "text": [
      "\r",
      "  3%|██▋                                                                            | 17/500 [02:53<1:21:47, 10.16s/it]"
     ]
    },
    {
     "name": "stdout",
     "output_type": "stream",
     "text": [
      "16 오아시스마켓 장보기 여름먹거리 쇼핑\n"
     ]
    },
    {
     "name": "stderr",
     "output_type": "stream",
     "text": [
      "\r",
      "  4%|██▊                                                                            | 18/500 [03:03<1:21:53, 10.19s/it]"
     ]
    },
    {
     "name": "stdout",
     "output_type": "stream",
     "text": [
      "17 다이어트식단 오아시스마켓 통곡물그래놀라 고소한 곡물맛\n"
     ]
    },
    {
     "name": "stderr",
     "output_type": "stream",
     "text": [
      "\r",
      "  4%|███                                                                            | 19/500 [03:15<1:25:52, 10.71s/it]"
     ]
    },
    {
     "name": "stdout",
     "output_type": "stream",
     "text": [
      "18 새벽배송 오아시스마켓 덕분에 아침도 뚝딱!!\n"
     ]
    },
    {
     "name": "stderr",
     "output_type": "stream",
     "text": [
      "\r",
      "  4%|███▏                                                                           | 20/500 [03:25<1:23:52, 10.49s/it]"
     ]
    },
    {
     "name": "stdout",
     "output_type": "stream",
     "text": [
      "19 새벽배송 장보기 오아시스마켓 추천 (밀푀유나베 재료, 에어프라이어 치킨, 미니 김치전 등)\n"
     ]
    },
    {
     "name": "stderr",
     "output_type": "stream",
     "text": [
      "\r",
      "  4%|███▎                                                                           | 21/500 [03:35<1:23:07, 10.41s/it]"
     ]
    },
    {
     "name": "stdout",
     "output_type": "stream",
     "text": [
      "20 오아시스마켓 가라아게, 김말이 튀김\n"
     ]
    },
    {
     "name": "stderr",
     "output_type": "stream",
     "text": [
      "\r",
      "  4%|███▍                                                                           | 22/500 [03:47<1:25:07, 10.69s/it]"
     ]
    },
    {
     "name": "stdout",
     "output_type": "stream",
     "text": [
      "21 오아시스 마켓 장보기 & 주말 요리(feat. 오아시스 마켓 쿠폰/ 추천인)\n"
     ]
    },
    {
     "name": "stderr",
     "output_type": "stream",
     "text": [
      "\r",
      "  5%|███▋                                                                           | 23/500 [03:57<1:23:09, 10.46s/it]"
     ]
    },
    {
     "name": "stdout",
     "output_type": "stream",
     "text": [
      "22 빈브라더스 콜드브루 산미커피 추천 오아시스마켓\n"
     ]
    },
    {
     "name": "stderr",
     "output_type": "stream",
     "text": [
      "\r",
      "  5%|███▊                                                                           | 24/500 [04:06<1:20:49, 10.19s/it]"
     ]
    },
    {
     "name": "stdout",
     "output_type": "stream",
     "text": [
      "23 오아시스마켓 장바구니 21편\n"
     ]
    },
    {
     "name": "stderr",
     "output_type": "stream",
     "text": [
      "\r",
      "  5%|███▉                                                                           | 25/500 [04:16<1:20:35, 10.18s/it]"
     ]
    },
    {
     "name": "stdout",
     "output_type": "stream",
     "text": [
      "24 새벽배송 오아시스마켓 후기_큼직한 냉동 손질꽃게로 된장찌개만들기\n"
     ]
    },
    {
     "name": "stderr",
     "output_type": "stream",
     "text": [
      "\r",
      "  5%|████                                                                           | 26/500 [04:28<1:23:05, 10.52s/it]"
     ]
    },
    {
     "name": "stdout",
     "output_type": "stream",
     "text": [
      "25 오아시스마켓 쿠폰사용하여 새벽배송 주문했어요\n"
     ]
    },
    {
     "name": "stderr",
     "output_type": "stream",
     "text": [
      "\r",
      "  5%|████▎                                                                          | 27/500 [04:38<1:22:37, 10.48s/it]"
     ]
    },
    {
     "name": "stdout",
     "output_type": "stream",
     "text": [
      "26 오아시스마켓 추천 식재료 새벽배송 장바구니\n"
     ]
    },
    {
     "name": "stderr",
     "output_type": "stream",
     "text": [
      "\r",
      "  6%|████▍                                                                          | 28/500 [04:48<1:22:19, 10.46s/it]"
     ]
    },
    {
     "name": "stdout",
     "output_type": "stream",
     "text": [
      "27 오아시스마켓 국산치즈기획전 건강한 아기간식 겟\n"
     ]
    },
    {
     "name": "stderr",
     "output_type": "stream",
     "text": [
      "\r",
      "  6%|████▌                                                                          | 29/500 [04:58<1:20:54, 10.31s/it]"
     ]
    },
    {
     "name": "stdout",
     "output_type": "stream",
     "text": [
      "28 [오아시스마켓] 장바구니 구경하기,할인쿠폰 #1\n"
     ]
    },
    {
     "name": "stderr",
     "output_type": "stream",
     "text": [
      "\r",
      "  6%|████▋                                                                          | 30/500 [05:08<1:19:51, 10.19s/it]"
     ]
    },
    {
     "name": "stdout",
     "output_type": "stream",
     "text": [
      "29 오아시스마켓 수산물 생연어 추천 건어물 장보기\n"
     ]
    },
    {
     "name": "stderr",
     "output_type": "stream",
     "text": [
      "\r",
      "  6%|████▉                                                                          | 31/500 [05:18<1:18:31, 10.05s/it]"
     ]
    },
    {
     "name": "stdout",
     "output_type": "stream",
     "text": [
      "30 새벽배송!!오아시스마켓하자!!^^\n"
     ]
    },
    {
     "name": "stderr",
     "output_type": "stream",
     "text": [
      "\r",
      "  6%|█████                                                                          | 32/500 [05:28<1:19:00, 10.13s/it]"
     ]
    },
    {
     "name": "stdout",
     "output_type": "stream",
     "text": [
      "31 외벌이4인가족 40만원살기 가계부 2023년 10월1일~7일 #와디즈 #오아시스마켓 #마켓컬리 #엄마찬스\n"
     ]
    },
    {
     "name": "stderr",
     "output_type": "stream",
     "text": [
      "\r",
      "  7%|█████▏                                                                         | 33/500 [05:38<1:18:28, 10.08s/it]"
     ]
    },
    {
     "name": "stdout",
     "output_type": "stream",
     "text": [
      "32 오아시스마켓 K-MILK인증 국산치즈기획전 스트링, 리코타 치즈\n"
     ]
    },
    {
     "name": "stderr",
     "output_type": "stream",
     "text": [
      "\r",
      "  7%|█████▎                                                                         | 34/500 [05:48<1:17:52, 10.03s/it]"
     ]
    },
    {
     "name": "stdout",
     "output_type": "stream",
     "text": [
      "33 일 년만의 오아시스 마켓 (추천인 아이디 woodsbin), 오트밀도 사고, 계란도 사고, 3만원 이상이면 무료배송인게 최고!\n"
     ]
    },
    {
     "name": "stderr",
     "output_type": "stream",
     "text": [
      "\r",
      "  7%|█████▌                                                                         | 35/500 [05:59<1:19:27, 10.25s/it]"
     ]
    },
    {
     "name": "stdout",
     "output_type": "stream",
     "text": [
      "34 건강한 국산치즈 오아시스마켓 치즈기획전에서 만나보세요 :)\n"
     ]
    },
    {
     "name": "stderr",
     "output_type": "stream",
     "text": [
      "\r",
      "  7%|█████▋                                                                         | 36/500 [06:09<1:19:28, 10.28s/it]"
     ]
    },
    {
     "name": "stdout",
     "output_type": "stream",
     "text": [
      "35 오아시스마켓 추천 계란감자샐러드\n"
     ]
    },
    {
     "name": "stderr",
     "output_type": "stream",
     "text": [
      "\r",
      "  7%|█████▊                                                                         | 37/500 [06:19<1:18:08, 10.13s/it]"
     ]
    },
    {
     "name": "stdout",
     "output_type": "stream",
     "text": [
      "36 오아시스마켓 장바구니 19편\n"
     ]
    },
    {
     "name": "stderr",
     "output_type": "stream",
     "text": [
      "\r",
      "  8%|██████                                                                         | 38/500 [06:30<1:18:39, 10.21s/it]"
     ]
    },
    {
     "name": "stdout",
     "output_type": "stream",
     "text": [
      "37 오아시스마켓 안주 추천 : 양념편육 후기\n"
     ]
    },
    {
     "name": "stderr",
     "output_type": "stream",
     "text": [
      "\r",
      "  8%|██████▏                                                                        | 39/500 [06:40<1:19:57, 10.41s/it]"
     ]
    },
    {
     "name": "stdout",
     "output_type": "stream",
     "text": [
      "38 이랜드 킴스오아시스 마켓 호불호 없는 고기반찬 남편 남자친구 생일상차림 메뉴\n"
     ]
    },
    {
     "name": "stderr",
     "output_type": "stream",
     "text": [
      "\r",
      "  8%|██████▎                                                                        | 40/500 [06:51<1:19:12, 10.33s/it]"
     ]
    },
    {
     "name": "stdout",
     "output_type": "stream",
     "text": [
      "39 유관기관 협력 판매지원(오아시스마켓) 참가기업 모집\n"
     ]
    },
    {
     "name": "stderr",
     "output_type": "stream",
     "text": [
      "\r",
      "  8%|██████▍                                                                        | 41/500 [07:00<1:18:11, 10.22s/it]"
     ]
    },
    {
     "name": "stdout",
     "output_type": "stream",
     "text": [
      "40 은숯나라 천연염색 숯/황토 반팔티 후기(w.오아시스마켓)\n"
     ]
    },
    {
     "name": "stderr",
     "output_type": "stream",
     "text": [
      "\r",
      "  8%|██████▋                                                                        | 42/500 [07:10<1:17:30, 10.15s/it]"
     ]
    },
    {
     "name": "stdout",
     "output_type": "stream",
     "text": [
      "41 [오아시스마켓] 장바구니 구경하기 #2\n"
     ]
    },
    {
     "name": "stderr",
     "output_type": "stream",
     "text": [
      "\r",
      "  9%|██████▊                                                                        | 43/500 [07:21<1:17:19, 10.15s/it]"
     ]
    },
    {
     "name": "stdout",
     "output_type": "stream",
     "text": [
      "42 오아시스마켓 추천제품 돼지국밥,한우염통,콩국물\n"
     ]
    },
    {
     "name": "stderr",
     "output_type": "stream",
     "text": [
      "\r",
      "  9%|██████▉                                                                        | 44/500 [07:31<1:17:09, 10.15s/it]"
     ]
    },
    {
     "name": "stdout",
     "output_type": "stream",
     "text": [
      "43 [10월 5주 차] 오아시스마켓 장보기｜추천상품 새벽배송 오아시스마켓 할인코드 장보기메뉴\n"
     ]
    },
    {
     "name": "stderr",
     "output_type": "stream",
     "text": [
      "\r",
      "  9%|███████                                                                        | 45/500 [07:40<1:15:43,  9.99s/it]"
     ]
    },
    {
     "name": "stdout",
     "output_type": "stream",
     "text": [
      "44 오아시스 마켓 장보기\n"
     ]
    },
    {
     "name": "stderr",
     "output_type": "stream",
     "text": [
      "\r",
      "  9%|███████▎                                                                       | 46/500 [07:50<1:15:47, 10.02s/it]"
     ]
    },
    {
     "name": "stdout",
     "output_type": "stream",
     "text": [
      "45 간단하게 만드는 자연면 까르보나라 스파게티 오아시스마켓\n"
     ]
    },
    {
     "name": "stderr",
     "output_type": "stream",
     "text": [
      "\r",
      "  9%|███████▍                                                                       | 47/500 [08:01<1:15:45, 10.03s/it]"
     ]
    },
    {
     "name": "stdout",
     "output_type": "stream",
     "text": [
      "46 새벽배송 오아시스마켓., !! 포장도 품질도 모든게 완벽해!!\n"
     ]
    },
    {
     "name": "stderr",
     "output_type": "stream",
     "text": [
      "\r",
      " 10%|███████▌                                                                       | 48/500 [08:11<1:15:39, 10.04s/it]"
     ]
    },
    {
     "name": "stdout",
     "output_type": "stream",
     "text": [
      "47 오아시스마켓 추천 새벽배송 도제 더블에그 산도\n"
     ]
    },
    {
     "name": "stderr",
     "output_type": "stream",
     "text": [
      "\r",
      " 10%|███████▋                                                                       | 49/500 [08:22<1:18:37, 10.46s/it]"
     ]
    },
    {
     "name": "stdout",
     "output_type": "stream",
     "text": [
      "48 오아시스마켓 추천상품, 아이 둘 있는 집 장보기\n"
     ]
    },
    {
     "name": "stderr",
     "output_type": "stream",
     "text": [
      "\r",
      " 10%|███████▉                                                                       | 50/500 [08:32<1:16:45, 10.23s/it]"
     ]
    },
    {
     "name": "stdout",
     "output_type": "stream",
     "text": [
      "49 오아시스마켓 장바구니 17편\n"
     ]
    },
    {
     "name": "stderr",
     "output_type": "stream",
     "text": [
      "\r",
      " 10%|████████                                                                       | 51/500 [08:42<1:15:42, 10.12s/it]"
     ]
    },
    {
     "name": "stdout",
     "output_type": "stream",
     "text": [
      "50 오아시스 마켓 추천 상품과 추천인 아이디\n"
     ]
    },
    {
     "name": "stderr",
     "output_type": "stream",
     "text": [
      "\r",
      " 10%|████████▏                                                                      | 52/500 [08:53<1:18:11, 10.47s/it]"
     ]
    },
    {
     "name": "stdout",
     "output_type": "stream",
     "text": [
      "51 담백한 국산치즈 즐겨본 오아시스마켓 배송\n"
     ]
    },
    {
     "name": "stderr",
     "output_type": "stream",
     "text": [
      "\r",
      " 11%|████████▎                                                                      | 53/500 [09:03<1:17:53, 10.46s/it]"
     ]
    },
    {
     "name": "stdout",
     "output_type": "stream",
     "text": [
      "52 오아시스마켓 국산 치즈기획전 K-MILK 먹어봐요\n"
     ]
    },
    {
     "name": "stderr",
     "output_type": "stream",
     "text": [
      "\r",
      " 11%|████████▌                                                                      | 54/500 [09:13<1:16:23, 10.28s/it]"
     ]
    },
    {
     "name": "stdout",
     "output_type": "stream",
     "text": [
      "53 오아시스마켓 자유란, 간식\n"
     ]
    },
    {
     "name": "stderr",
     "output_type": "stream",
     "text": [
      "\r",
      " 11%|████████▋                                                                      | 55/500 [09:23<1:15:38, 10.20s/it]"
     ]
    },
    {
     "name": "stdout",
     "output_type": "stream",
     "text": [
      "54 생협 오아시스마켓 9월 할인 쿠폰 정보 농축산물 할인대전 페이코할인 추천인쿠폰\n"
     ]
    },
    {
     "name": "stderr",
     "output_type": "stream",
     "text": [
      "\r",
      " 11%|████████▊                                                                      | 56/500 [09:34<1:15:48, 10.24s/it]"
     ]
    },
    {
     "name": "stdout",
     "output_type": "stream",
     "text": [
      "55 20230819 오아시스마켓장바구니\n"
     ]
    },
    {
     "name": "stderr",
     "output_type": "stream",
     "text": [
      "\r",
      " 11%|█████████                                                                      | 57/500 [09:44<1:15:29, 10.22s/it]"
     ]
    },
    {
     "name": "stdout",
     "output_type": "stream",
     "text": [
      "56 에머이 쌀국수 밀키트 오아시스마켓 마켓컬리 추천템\n"
     ]
    },
    {
     "name": "stderr",
     "output_type": "stream",
     "text": [
      "\r",
      " 12%|█████████▏                                                                     | 58/500 [09:54<1:14:48, 10.15s/it]"
     ]
    },
    {
     "name": "stdout",
     "output_type": "stream",
     "text": [
      "57 국산치즈 오아시스마켓에서 치즈 기획전으로 득템!!\n"
     ]
    },
    {
     "name": "stderr",
     "output_type": "stream",
     "text": [
      "\r",
      " 12%|█████████▎                                                                     | 59/500 [10:04<1:15:18, 10.25s/it]"
     ]
    },
    {
     "name": "stdout",
     "output_type": "stream",
     "text": [
      "58 [오아시스마켓] 장바구니 구경하기 #3\n"
     ]
    },
    {
     "name": "stderr",
     "output_type": "stream",
     "text": [
      "\r",
      " 12%|█████████▍                                                                     | 60/500 [10:14<1:14:45, 10.20s/it]"
     ]
    },
    {
     "name": "stdout",
     "output_type": "stream",
     "text": [
      "59 새벽배송 오아시스마켓, 신선한 재료로 초간단 생일상!!\n"
     ]
    },
    {
     "name": "stderr",
     "output_type": "stream",
     "text": [
      "\r",
      " 12%|█████████▋                                                                     | 61/500 [10:24<1:14:19, 10.16s/it]"
     ]
    },
    {
     "name": "stdout",
     "output_type": "stream",
     "text": [
      "60 오아시스마켓 장바구니 20편\n"
     ]
    },
    {
     "name": "stderr",
     "output_type": "stream",
     "text": [
      "\r",
      " 12%|█████████▊                                                                     | 62/500 [10:35<1:15:09, 10.30s/it]"
     ]
    },
    {
     "name": "stdout",
     "output_type": "stream",
     "text": [
      "61 킴스오아시스 추천 오아시스 마켓 첫구매 사야할 것\n"
     ]
    },
    {
     "name": "stderr",
     "output_type": "stream",
     "text": [
      "\r",
      " 13%|█████████▉                                                                     | 63/500 [10:45<1:14:04, 10.17s/it]"
     ]
    },
    {
     "name": "stdout",
     "output_type": "stream",
     "text": [
      "62 오아시스마켓 장바구니 18편\n"
     ]
    },
    {
     "name": "stderr",
     "output_type": "stream",
     "text": [
      "\r",
      " 13%|██████████                                                                     | 64/500 [10:56<1:16:24, 10.51s/it]"
     ]
    },
    {
     "name": "stdout",
     "output_type": "stream",
     "text": [
      "63 다시마국수 다이어트 추천 오아시스마켓 솔직후기\n"
     ]
    },
    {
     "name": "stderr",
     "output_type": "stream",
     "text": [
      "\r",
      " 13%|██████████▎                                                                    | 65/500 [11:06<1:14:57, 10.34s/it]"
     ]
    },
    {
     "name": "stdout",
     "output_type": "stream",
     "text": [
      "64 10월 오아시스마켓 장바구니, 오아시스마켓 추천인\n"
     ]
    },
    {
     "name": "stderr",
     "output_type": "stream",
     "text": [
      "\r",
      " 13%|██████████▍                                                                    | 66/500 [11:16<1:14:02, 10.24s/it]"
     ]
    },
    {
     "name": "stdout",
     "output_type": "stream",
     "text": [
      "65 [오아시스마켓] 장바구니 구경하기 #4\n"
     ]
    },
    {
     "name": "stderr",
     "output_type": "stream",
     "text": [
      "\r",
      " 13%|██████████▌                                                                    | 67/500 [11:26<1:13:17, 10.16s/it]"
     ]
    },
    {
     "name": "stdout",
     "output_type": "stream",
     "text": [
      "66 국산치즈 우유자조금 오아시스마켓 할인기획전으로 국산원유 kmilk 치즈요리 레시피 공유\n"
     ]
    },
    {
     "name": "stderr",
     "output_type": "stream",
     "text": [
      "\r",
      " 14%|██████████▋                                                                    | 68/500 [11:36<1:12:50, 10.12s/it]"
     ]
    },
    {
     "name": "stdout",
     "output_type": "stream",
     "text": [
      "67 오아시스 마켓 (230913) :: 가야산 홍로사과, 오아시스 땡초부추전 추천\n"
     ]
    },
    {
     "name": "stderr",
     "output_type": "stream",
     "text": [
      "\r",
      " 14%|██████████▉                                                                    | 69/500 [11:46<1:11:39,  9.98s/it]"
     ]
    },
    {
     "name": "stdout",
     "output_type": "stream",
     "text": [
      "68 유사나디톡스 마지막날,밀촌에서만찬,오아시스마켓\n"
     ]
    },
    {
     "name": "stderr",
     "output_type": "stream",
     "text": [
      "\r",
      " 14%|███████████                                                                    | 70/500 [11:56<1:12:42, 10.15s/it]"
     ]
    },
    {
     "name": "stdout",
     "output_type": "stream",
     "text": [
      "69 오아시스 마켓 (230922) :: 명절을 대비한 전종류 위주의 구매\n"
     ]
    },
    {
     "name": "stderr",
     "output_type": "stream",
     "text": [
      "\r",
      " 14%|███████████▏                                                                   | 71/500 [12:07<1:12:47, 10.18s/it]"
     ]
    },
    {
     "name": "stdout",
     "output_type": "stream",
     "text": [
      "70 통곡물 그래놀라 칼로리 수제요거트 오아시스마켓\n"
     ]
    },
    {
     "name": "stderr",
     "output_type": "stream",
     "text": [
      "\r",
      " 14%|███████████▍                                                                   | 72/500 [12:17<1:14:12, 10.40s/it]"
     ]
    },
    {
     "name": "stdout",
     "output_type": "stream",
     "text": [
      "71 2인가구 장바구니 새벽 배송 장보기 오아시스마켓 추천\n"
     ]
    },
    {
     "name": "stderr",
     "output_type": "stream",
     "text": [
      "\r",
      " 15%|███████████▌                                                                   | 73/500 [12:27<1:12:47, 10.23s/it]"
     ]
    },
    {
     "name": "stdout",
     "output_type": "stream",
     "text": [
      "72 새벽 배송 해주신 오아시스 마켓 장바구니 구경 +추천템\n"
     ]
    },
    {
     "name": "stderr",
     "output_type": "stream",
     "text": [
      "\r",
      " 15%|███████████▋                                                                   | 74/500 [12:39<1:15:50, 10.68s/it]"
     ]
    },
    {
     "name": "stdout",
     "output_type": "stream",
     "text": [
      "73 오아시스마켓\n"
     ]
    },
    {
     "name": "stderr",
     "output_type": "stream",
     "text": [
      "\r",
      " 15%|███████████▊                                                                   | 75/500 [12:49<1:14:20, 10.50s/it]"
     ]
    },
    {
     "name": "stdout",
     "output_type": "stream",
     "text": [
      "74 무항생제 소시지 오아시스마켓 솔직후기\n"
     ]
    },
    {
     "name": "stderr",
     "output_type": "stream",
     "text": [
      "\r",
      " 15%|████████████                                                                   | 76/500 [12:59<1:13:07, 10.35s/it]"
     ]
    },
    {
     "name": "stdout",
     "output_type": "stream",
     "text": [
      "75 삼겹살 요리 무항생제 친환경 우리한돈 후기 오아시스마켓\n"
     ]
    },
    {
     "name": "stderr",
     "output_type": "stream",
     "text": [
      "\r",
      " 15%|████████████▏                                                                  | 77/500 [13:09<1:11:40, 10.17s/it]"
     ]
    },
    {
     "name": "stdout",
     "output_type": "stream",
     "text": [
      "76 오아시스 마켓 훕훕베이글 오리지널 솔직후기\n"
     ]
    },
    {
     "name": "stderr",
     "output_type": "stream",
     "text": [
      "\r",
      " 16%|████████████▎                                                                  | 78/500 [13:18<1:10:11,  9.98s/it]"
     ]
    },
    {
     "name": "stdout",
     "output_type": "stream",
     "text": [
      "77 오아시스 마켓 간식 추천템, '우리밀 미니 붕어빵'\n"
     ]
    },
    {
     "name": "stderr",
     "output_type": "stream",
     "text": [
      "\r",
      " 16%|████████████▍                                                                  | 79/500 [13:28<1:09:29,  9.90s/it]"
     ]
    },
    {
     "name": "stdout",
     "output_type": "stream",
     "text": [
      "78 오아시스 마켓 명절음식 추천 하늘청식혜\n"
     ]
    },
    {
     "name": "stderr",
     "output_type": "stream",
     "text": [
      "\r",
      " 16%|████████████▋                                                                  | 80/500 [13:39<1:10:52, 10.12s/it]"
     ]
    },
    {
     "name": "stdout",
     "output_type": "stream",
     "text": [
      "79 20230918 오아시스마켓장바구니\n"
     ]
    },
    {
     "name": "stderr",
     "output_type": "stream",
     "text": [
      "\r",
      " 16%|████████████▊                                                                  | 81/500 [13:49<1:11:19, 10.21s/it]"
     ]
    },
    {
     "name": "stdout",
     "output_type": "stream",
     "text": [
      "80 20231010 오아시스마켓장바구니\n"
     ]
    },
    {
     "name": "stderr",
     "output_type": "stream",
     "text": [
      "\r",
      " 16%|████████████▉                                                                  | 82/500 [14:01<1:14:16, 10.66s/it]"
     ]
    },
    {
     "name": "stdout",
     "output_type": "stream",
     "text": [
      "81 홍대쭈꾸미 밀키트 캠핑 혼밥 간편 요리 오아시스마켓 추천템\n"
     ]
    },
    {
     "name": "stderr",
     "output_type": "stream",
     "text": [
      "\r",
      " 17%|█████████████                                                                  | 83/500 [14:11<1:12:01, 10.36s/it]"
     ]
    },
    {
     "name": "stdout",
     "output_type": "stream",
     "text": [
      "82 쿠폰 잘 주기로 소문난 오아시스 마켓! 이번엔 2만원권 쿠폰\n"
     ]
    },
    {
     "name": "stderr",
     "output_type": "stream",
     "text": [
      "\r",
      " 17%|█████████████▎                                                                 | 84/500 [14:20<1:11:03, 10.25s/it]"
     ]
    },
    {
     "name": "stdout",
     "output_type": "stream",
     "text": [
      "83 오아시스마켓) 한우국거리, 컷팅수박, 클렌즈주스, 콩국물 외\n"
     ]
    },
    {
     "name": "stderr",
     "output_type": "stream",
     "text": [
      "\r",
      " 17%|█████████████▍                                                                 | 85/500 [14:31<1:10:31, 10.20s/it]"
     ]
    },
    {
     "name": "stdout",
     "output_type": "stream",
     "text": [
      "84 오아시스마켓 할인 쿠폰 같이 받고 식비아껴요\n"
     ]
    },
    {
     "name": "stderr",
     "output_type": "stream",
     "text": [
      "\r",
      " 17%|█████████████▌                                                                 | 86/500 [14:40<1:09:36, 10.09s/it]"
     ]
    },
    {
     "name": "stdout",
     "output_type": "stream",
     "text": [
      "85 10월 오아시스마켓 추천상품, 오아시스마켓 추천인\n"
     ]
    },
    {
     "name": "stderr",
     "output_type": "stream",
     "text": [
      "\r",
      " 17%|█████████████▋                                                                 | 87/500 [14:50<1:08:43,  9.98s/it]"
     ]
    },
    {
     "name": "stdout",
     "output_type": "stream",
     "text": [
      "86 11월 일상 | 미술관 읽는 시간 , 하루견과 미라클모닝 , 오아시스마켓 무농약귤, 수능선물 그레인스쿠키\n"
     ]
    },
    {
     "name": "stderr",
     "output_type": "stream",
     "text": [
      "\r",
      " 18%|█████████████▉                                                                 | 88/500 [15:00<1:09:03, 10.06s/it]"
     ]
    },
    {
     "name": "stdout",
     "output_type": "stream",
     "text": [
      "87 오리엔탈비프샐러드 오아시스마켓 구매후기\n"
     ]
    },
    {
     "name": "stderr",
     "output_type": "stream",
     "text": [
      "\r",
      " 18%|██████████████                                                                 | 89/500 [15:11<1:09:17, 10.12s/it]"
     ]
    },
    {
     "name": "stdout",
     "output_type": "stream",
     "text": [
      "88 오아시스마켓) 제습제 외, 장마철 습기제거제 추천\n"
     ]
    },
    {
     "name": "stderr",
     "output_type": "stream",
     "text": [
      "\r",
      " 18%|██████████████▏                                                                | 90/500 [15:20<1:08:31, 10.03s/it]"
     ]
    },
    {
     "name": "stdout",
     "output_type": "stream",
     "text": [
      "89 오아시스마켓, 오프라인 공략…농공상기업 상품 반값 할인\n"
     ]
    },
    {
     "name": "stderr",
     "output_type": "stream",
     "text": [
      "\r",
      " 18%|██████████████▍                                                                | 91/500 [15:30<1:07:45,  9.94s/it]"
     ]
    },
    {
     "name": "stdout",
     "output_type": "stream",
     "text": [
      "90 오아시스마켓 경산신비복숭아 백도맛이 정말 좋아요! (feat.천도복숭아는 황도)\n"
     ]
    },
    {
     "name": "stderr",
     "output_type": "stream",
     "text": [
      "\r",
      " 18%|██████████████▌                                                                | 92/500 [15:40<1:07:30,  9.93s/it]"
     ]
    },
    {
     "name": "stdout",
     "output_type": "stream",
     "text": [
      "91 임산부 간식, 오아시스마켓에서 주문한 초코현미 크런치바\n"
     ]
    },
    {
     "name": "stderr",
     "output_type": "stream",
     "text": [
      "\r",
      " 19%|██████████████▋                                                                | 93/500 [15:50<1:06:57,  9.87s/it]"
     ]
    },
    {
     "name": "stdout",
     "output_type": "stream",
     "text": [
      "92 오아시스마켓 장보기 추천상품 전주찬방 열무김치\n"
     ]
    },
    {
     "name": "stderr",
     "output_type": "stream",
     "text": [
      "\r",
      " 19%|██████████████▊                                                                | 94/500 [16:00<1:07:02,  9.91s/it]"
     ]
    },
    {
     "name": "stdout",
     "output_type": "stream",
     "text": [
      "93 [오아시스마켓, 새벽배송] 스무디라이프 ♥️\n"
     ]
    },
    {
     "name": "stderr",
     "output_type": "stream",
     "text": [
      "\r",
      " 19%|███████████████                                                                | 95/500 [16:10<1:06:38,  9.87s/it]"
     ]
    },
    {
     "name": "stdout",
     "output_type": "stream",
     "text": [
      "94 토스 × 오아시스마켓 2만이상 1만원할인!! 꺄오~\n"
     ]
    },
    {
     "name": "stderr",
     "output_type": "stream",
     "text": [
      "\r",
      " 19%|███████████████▏                                                               | 96/500 [16:19<1:06:02,  9.81s/it]"
     ]
    },
    {
     "name": "stdout",
     "output_type": "stream",
     "text": [
      "95 [가계부일기] 11월1일 - 오아시스마켓 첫 구매(추천인:hyrshs)\n"
     ]
    },
    {
     "name": "stderr",
     "output_type": "stream",
     "text": [
      "\r",
      " 19%|███████████████▎                                                               | 97/500 [16:29<1:05:47,  9.79s/it]"
     ]
    },
    {
     "name": "stdout",
     "output_type": "stream",
     "text": [
      "96 오아시스마켓 새벽배송 최고!! 회원가입(추천인: skyloveyk\n"
     ]
    },
    {
     "name": "stderr",
     "output_type": "stream",
     "text": [
      "\r",
      " 20%|███████████████▍                                                               | 98/500 [16:39<1:05:54,  9.84s/it]"
     ]
    },
    {
     "name": "stdout",
     "output_type": "stream",
     "text": [
      "97 시원하게 우묵채콩국 오아시스마켓\n"
     ]
    },
    {
     "name": "stderr",
     "output_type": "stream",
     "text": [
      "\r",
      " 20%|███████████████▋                                                               | 99/500 [16:49<1:06:14,  9.91s/it]"
     ]
    },
    {
     "name": "stdout",
     "output_type": "stream",
     "text": [
      "98 20231107 오아시스마켓장바구니\n"
     ]
    },
    {
     "name": "stderr",
     "output_type": "stream",
     "text": [
      "\r",
      " 20%|███████████████▌                                                              | 100/500 [17:00<1:07:52, 10.18s/it]"
     ]
    },
    {
     "name": "stdout",
     "output_type": "stream",
     "text": [
      "99 오아시스마켓 장바구니, 이렇게 샀어요!\n"
     ]
    },
    {
     "name": "stderr",
     "output_type": "stream",
     "text": [
      "\r",
      " 20%|███████████████▊                                                              | 101/500 [17:10<1:06:56, 10.07s/it]"
     ]
    },
    {
     "name": "stdout",
     "output_type": "stream",
     "text": [
      "100 오아시스마켓 추천/ 옵스 케이크 추천\n"
     ]
    },
    {
     "name": "stderr",
     "output_type": "stream",
     "text": [
      "\r",
      " 20%|███████████████▉                                                              | 102/500 [17:20<1:08:06, 10.27s/it]"
     ]
    },
    {
     "name": "stdout",
     "output_type": "stream",
     "text": [
      "101 오아시스마켓 추천템\n"
     ]
    },
    {
     "name": "stderr",
     "output_type": "stream",
     "text": [
      "\r",
      " 21%|████████████████                                                              | 103/500 [17:30<1:07:21, 10.18s/it]"
     ]
    },
    {
     "name": "stdout",
     "output_type": "stream",
     "text": [
      "102 이유식장보기 내돈내산 오아시스마켓 추천 오아시스마켓 장보기 추천템\n"
     ]
    },
    {
     "name": "stderr",
     "output_type": "stream",
     "text": [
      "\r",
      " 21%|████████████████▏                                                             | 104/500 [17:40<1:06:52, 10.13s/it]"
     ]
    },
    {
     "name": "stdout",
     "output_type": "stream",
     "text": [
      "103 오아시스마켓 추천 첫 구매 인기상품 단돈 100원으로 새벽배송 후기\n"
     ]
    },
    {
     "name": "stderr",
     "output_type": "stream",
     "text": [
      "\r",
      " 21%|████████████████▍                                                             | 105/500 [17:50<1:05:54, 10.01s/it]"
     ]
    },
    {
     "name": "stdout",
     "output_type": "stream",
     "text": [
      "104 새벽배송 오아시스마켓) 회원가입 추천 아이디 ★skyloveyk★\n"
     ]
    },
    {
     "name": "stderr",
     "output_type": "stream",
     "text": [
      "\r",
      " 21%|████████████████▌                                                             | 106/500 [18:00<1:05:43, 10.01s/it]"
     ]
    },
    {
     "name": "stdout",
     "output_type": "stream",
     "text": [
      "105 오아시스 마켓 2인가구 장보기\n"
     ]
    },
    {
     "name": "stderr",
     "output_type": "stream",
     "text": [
      "\r",
      " 21%|████████████████▋                                                             | 107/500 [18:10<1:05:55, 10.07s/it]"
     ]
    },
    {
     "name": "stdout",
     "output_type": "stream",
     "text": [
      "106 20231027 오아시스마켓장바구니\n"
     ]
    },
    {
     "name": "stderr",
     "output_type": "stream",
     "text": [
      "\r",
      " 22%|████████████████▊                                                             | 108/500 [18:21<1:06:50, 10.23s/it]"
     ]
    },
    {
     "name": "stdout",
     "output_type": "stream",
     "text": [
      "107 10월 10 -은행업무 대기만3시간,오아시스마켓 장보기,다이소는 할로윈,쇼핑,집밥(코스트코 사워도우버거번,목살샐러드)\n"
     ]
    },
    {
     "name": "stderr",
     "output_type": "stream",
     "text": [
      "\r",
      " 22%|█████████████████                                                             | 109/500 [18:31<1:05:55, 10.12s/it]"
     ]
    },
    {
     "name": "stdout",
     "output_type": "stream",
     "text": [
      "108 K-MILK 인증 제품 오아시스마켓 치즈기획전에서 저렴하게 구입해요\n"
     ]
    },
    {
     "name": "stderr",
     "output_type": "stream",
     "text": [
      "\r",
      " 22%|█████████████████▏                                                            | 110/500 [18:41<1:05:32, 10.08s/it]"
     ]
    },
    {
     "name": "stdout",
     "output_type": "stream",
     "text": [
      "109 오아시스마켓) 그릭 요거트, 그래놀라, 볶음 알땅콩, 쌈 채소, 샐러드 외\n"
     ]
    },
    {
     "name": "stderr",
     "output_type": "stream",
     "text": [
      "\r",
      " 22%|█████████████████▎                                                            | 111/500 [18:51<1:05:00, 10.03s/it]"
     ]
    },
    {
     "name": "stdout",
     "output_type": "stream",
     "text": [
      "110 오아시스마켓 제주청귤주스 솔직후기\n"
     ]
    },
    {
     "name": "stderr",
     "output_type": "stream",
     "text": [
      "\r",
      " 22%|█████████████████▍                                                            | 112/500 [19:00<1:04:11,  9.93s/it]"
     ]
    },
    {
     "name": "stdout",
     "output_type": "stream",
     "text": [
      "111 오아시스 마켓 들깨수제비 외 - 새벽 배송\n"
     ]
    },
    {
     "name": "stderr",
     "output_type": "stream",
     "text": [
      "\r",
      " 23%|█████████████████▋                                                            | 113/500 [19:10<1:03:39,  9.87s/it]"
     ]
    },
    {
     "name": "stdout",
     "output_type": "stream",
     "text": [
      "112 등촌역 오아시스 마켓 방문기\n"
     ]
    },
    {
     "name": "stderr",
     "output_type": "stream",
     "text": [
      "\r",
      " 23%|█████████████████▊                                                            | 114/500 [19:20<1:02:59,  9.79s/it]"
     ]
    },
    {
     "name": "stdout",
     "output_type": "stream",
     "text": [
      "113 오아시스마켓 닭볶음탕 밀키트 제주 담은\n"
     ]
    },
    {
     "name": "stderr",
     "output_type": "stream",
     "text": [
      "\r",
      " 23%|█████████████████▉                                                            | 115/500 [19:30<1:03:00,  9.82s/it]"
     ]
    },
    {
     "name": "stdout",
     "output_type": "stream",
     "text": [
      "114 [오아시스마켓] 할인 쿠폰 사용해서 저렴하게 식품 쇼핑하기! + 추천템 리스트\n"
     ]
    },
    {
     "name": "stderr",
     "output_type": "stream",
     "text": [
      "\r",
      " 23%|██████████████████                                                            | 116/500 [19:40<1:03:32,  9.93s/it]"
     ]
    },
    {
     "name": "stdout",
     "output_type": "stream",
     "text": [
      "115 오아시스마켓 K-MILK 치즈기획전\n"
     ]
    },
    {
     "name": "stderr",
     "output_type": "stream",
     "text": [
      "\r",
      " 23%|██████████████████▎                                                           | 117/500 [19:50<1:03:05,  9.88s/it]"
     ]
    },
    {
     "name": "stdout",
     "output_type": "stream",
     "text": [
      "116 다이어트는 한식이 최고 오아시스마켓 가지, 소고기, 제주 순살갈치\n"
     ]
    },
    {
     "name": "stderr",
     "output_type": "stream",
     "text": [
      "\r",
      " 24%|██████████████████▍                                                           | 118/500 [20:00<1:04:11, 10.08s/it]"
     ]
    },
    {
     "name": "stdout",
     "output_type": "stream",
     "text": [
      "117 오아시스 마켓에서 케이뱅크 멤버 가입하고 새벽배송 무료로 받기\n"
     ]
    },
    {
     "name": "stderr",
     "output_type": "stream",
     "text": [
      "\r",
      " 24%|██████████████████▌                                                           | 119/500 [20:10<1:04:25, 10.15s/it]"
     ]
    },
    {
     "name": "stdout",
     "output_type": "stream",
     "text": [
      "118 오아시스 마켓 첫구매 요즘 일상 추천과자\n"
     ]
    },
    {
     "name": "stderr",
     "output_type": "stream",
     "text": [
      "\r",
      " 24%|██████████████████▋                                                           | 120/500 [20:20<1:03:49, 10.08s/it]"
     ]
    },
    {
     "name": "stdout",
     "output_type": "stream",
     "text": [
      "119 배홍동 비빔면 + 오아시스 마켓 = 완벽 간편 저녁상\n"
     ]
    },
    {
     "name": "stderr",
     "output_type": "stream",
     "text": [
      "\r",
      " 24%|██████████████████▉                                                           | 121/500 [20:30<1:03:15, 10.01s/it]"
     ]
    },
    {
     "name": "stdout",
     "output_type": "stream",
     "text": [
      "120 [오아시스마켓] 우리밀 미니붕어빵 통팥\n"
     ]
    },
    {
     "name": "stderr",
     "output_type": "stream",
     "text": [
      "\r",
      " 24%|███████████████████                                                           | 122/500 [20:40<1:03:28, 10.07s/it]"
     ]
    },
    {
     "name": "stdout",
     "output_type": "stream",
     "text": [
      "121 20230610 오아시스마켓장바구니\n"
     ]
    },
    {
     "name": "stderr",
     "output_type": "stream",
     "text": [
      "\r",
      " 25%|███████████████████▏                                                          | 123/500 [20:50<1:02:41,  9.98s/it]"
     ]
    },
    {
     "name": "stdout",
     "output_type": "stream",
     "text": [
      "122 오아시스마켓 장바구니, 방학식단\n"
     ]
    },
    {
     "name": "stderr",
     "output_type": "stream",
     "text": [
      "\r",
      " 25%|███████████████████▎                                                          | 124/500 [21:01<1:04:00, 10.21s/it]"
     ]
    },
    {
     "name": "stdout",
     "output_type": "stream",
     "text": [
      "123 오아시스마켓 도시락 퀴노아영양밥 닭가슴살 제육볶음 커리 더바른도시락\n"
     ]
    },
    {
     "name": "stderr",
     "output_type": "stream",
     "text": [
      "\r",
      " 25%|███████████████████▌                                                          | 125/500 [21:11<1:02:49, 10.05s/it]"
     ]
    },
    {
     "name": "stdout",
     "output_type": "stream",
     "text": [
      "124 오아시스마켓 건강한 식재료추천 새벽배송 회원가입(추천인: skyloveyk)\n"
     ]
    },
    {
     "name": "stderr",
     "output_type": "stream",
     "text": [
      "\r",
      " 25%|███████████████████▋                                                          | 126/500 [21:20<1:02:19, 10.00s/it]"
     ]
    },
    {
     "name": "stdout",
     "output_type": "stream",
     "text": [
      "125 [오아시스마켓] 우리밀로 만든 오코노미야끼\n"
     ]
    },
    {
     "name": "stderr",
     "output_type": "stream",
     "text": [
      "\r",
      " 25%|███████████████████▊                                                          | 127/500 [21:31<1:02:15, 10.01s/it]"
     ]
    },
    {
     "name": "stdout",
     "output_type": "stream",
     "text": [
      "126 추억을 공유하는 소시지전 아이들 반찬 오아시스 마켓 야채 소시지 후기\n"
     ]
    },
    {
     "name": "stderr",
     "output_type": "stream",
     "text": [
      "\r",
      " 26%|███████████████████▉                                                          | 128/500 [21:41<1:02:29, 10.08s/it]"
     ]
    },
    {
     "name": "stdout",
     "output_type": "stream",
     "text": [
      "127 2023년 10월 첫째주_74,092원 온라인장보기_오아시스&마켓컬리 장바구니공개\n"
     ]
    },
    {
     "name": "stderr",
     "output_type": "stream",
     "text": [
      "\r",
      " 26%|████████████████████                                                          | 129/500 [21:50<1:01:38,  9.97s/it]"
     ]
    },
    {
     "name": "stdout",
     "output_type": "stream",
     "text": [
      "128 주말 집밥_오아시스 마켓 새벽배송\n"
     ]
    },
    {
     "name": "stderr",
     "output_type": "stream",
     "text": [
      "\r",
      " 26%|████████████████████▎                                                         | 130/500 [22:00<1:01:06,  9.91s/it]"
     ]
    },
    {
     "name": "stdout",
     "output_type": "stream",
     "text": [
      "129 유관기관 협력 판매지원(오아시스마켓) 참가기업 모집\n"
     ]
    },
    {
     "name": "stderr",
     "output_type": "stream",
     "text": [
      "\r",
      " 26%|████████████████████▍                                                         | 131/500 [22:10<1:01:13,  9.95s/it]"
     ]
    },
    {
     "name": "stdout",
     "output_type": "stream",
     "text": [
      "130 집밥해먹기 기록 (엄마가 주신 김치와 시래기, 오아시스마켓, 마켓컬리 장보기, 동네 야채가게)\n"
     ]
    },
    {
     "name": "stderr",
     "output_type": "stream",
     "text": [
      "\r",
      " 26%|████████████████████▌                                                         | 132/500 [22:20<1:00:43,  9.90s/it]"
     ]
    },
    {
     "name": "stdout",
     "output_type": "stream",
     "text": [
      "131 오아시스 마켓 장보기 TOP5 내돈내산 아이템 공유\n"
     ]
    },
    {
     "name": "stderr",
     "output_type": "stream",
     "text": [
      "\r",
      " 27%|████████████████████▋                                                         | 133/500 [22:30<1:00:59,  9.97s/it]"
     ]
    },
    {
     "name": "stdout",
     "output_type": "stream",
     "text": [
      "132 오아시스 마켓 (230815) :: 좋은콩 두부, 희여골 못난이 초록사과, 경산 샤인머스캣 추천\n"
     ]
    },
    {
     "name": "stderr",
     "output_type": "stream",
     "text": [
      "\r",
      " 27%|████████████████████▉                                                         | 134/500 [22:40<1:00:59, 10.00s/it]"
     ]
    },
    {
     "name": "stdout",
     "output_type": "stream",
     "text": [
      "133 컬리에 실망하고 말 그대로 오아시스 발견 ㅋ 오아시스 마켓 첫구매 후기, 내돈내산 추천템, 친구추천 (feat. 이시형 박사 당근 주스 만들기)\n"
     ]
    },
    {
     "name": "stderr",
     "output_type": "stream",
     "text": [
      "\r",
      " 27%|█████████████████████                                                         | 135/500 [22:50<1:00:27,  9.94s/it]"
     ]
    },
    {
     "name": "stdout",
     "output_type": "stream",
     "text": [
      "134 아기 국 청국장 끓이기 F.오아시스마켓\n"
     ]
    },
    {
     "name": "stderr",
     "output_type": "stream",
     "text": [
      "\r",
      " 27%|█████████████████████▏                                                        | 136/500 [23:00<1:00:04,  9.90s/it]"
     ]
    },
    {
     "name": "stdout",
     "output_type": "stream",
     "text": [
      "135 오아시스마켓) 주스앤그로서리,닭가슴살, 미니 밤호박 외\n"
     ]
    },
    {
     "name": "stderr",
     "output_type": "stream",
     "text": [
      "\r",
      " 27%|█████████████████████▎                                                        | 137/500 [23:11<1:02:26, 10.32s/it]"
     ]
    },
    {
     "name": "stdout",
     "output_type": "stream",
     "text": [
      "136 20231017 오아시스마켓장바구니\n"
     ]
    },
    {
     "name": "stderr",
     "output_type": "stream",
     "text": [
      "\r",
      " 28%|█████████████████████▌                                                        | 138/500 [23:21<1:01:57, 10.27s/it]"
     ]
    },
    {
     "name": "stdout",
     "output_type": "stream",
     "text": [
      "137 [공지] [새벽배송 오아시스마켓 구매후기] 내돈내산\n"
     ]
    },
    {
     "name": "stderr",
     "output_type": "stream",
     "text": [
      "\r",
      " 28%|█████████████████████▋                                                        | 139/500 [23:31<1:01:12, 10.17s/it]"
     ]
    },
    {
     "name": "stdout",
     "output_type": "stream",
     "text": [
      "138 오아시스마켓 국화빵 🫓\n"
     ]
    },
    {
     "name": "stderr",
     "output_type": "stream",
     "text": [
      "\r",
      " 28%|█████████████████████▊                                                        | 140/500 [23:42<1:01:14, 10.21s/it]"
     ]
    },
    {
     "name": "stdout",
     "output_type": "stream",
     "text": [
      "139 오아시스 마켓 (230704) :: 데친 고구마순 & 고려삼계탕...글쎄다..\n"
     ]
    },
    {
     "name": "stderr",
     "output_type": "stream",
     "text": [
      "\r",
      " 28%|█████████████████████▉                                                        | 141/500 [23:52<1:01:36, 10.30s/it]"
     ]
    },
    {
     "name": "stdout",
     "output_type": "stream",
     "text": [
      "140 20230805 오아시스마켓 장바구니\n"
     ]
    },
    {
     "name": "stderr",
     "output_type": "stream",
     "text": [
      "\r",
      " 28%|██████████████████████▏                                                       | 142/500 [24:02<1:00:42, 10.17s/it]"
     ]
    },
    {
     "name": "stdout",
     "output_type": "stream",
     "text": [
      "141 오아시스마켓 추천템과 할인쿠폰 야무지게 쓰기, 추천인 oddy79\n"
     ]
    },
    {
     "name": "stderr",
     "output_type": "stream",
     "text": [
      "\r",
      " 29%|██████████████████████▉                                                         | 143/500 [24:12<59:51, 10.06s/it]"
     ]
    },
    {
     "name": "stdout",
     "output_type": "stream",
     "text": [
      "142 오아시스마켓, 주2회 장보는 중!!\n"
     ]
    },
    {
     "name": "stderr",
     "output_type": "stream",
     "text": [
      "\r",
      " 29%|███████████████████████                                                         | 144/500 [24:21<58:57,  9.94s/it]"
     ]
    },
    {
     "name": "stdout",
     "output_type": "stream",
     "text": [
      "143 [오아시스 마켓] 6만원대 장보기( 할인쿠폰 15,000원 적용!)\n"
     ]
    },
    {
     "name": "stderr",
     "output_type": "stream",
     "text": [
      "\r",
      " 29%|███████████████████████▏                                                        | 145/500 [24:31<58:03,  9.81s/it]"
     ]
    },
    {
     "name": "stdout",
     "output_type": "stream",
     "text": [
      "144 오아시스 마켓 드디어 세종시 새벽배송 시작!!👏👏👏\n"
     ]
    },
    {
     "name": "stderr",
     "output_type": "stream",
     "text": [
      "\r",
      " 29%|███████████████████████▎                                                        | 146/500 [24:41<58:48,  9.97s/it]"
     ]
    },
    {
     "name": "stdout",
     "output_type": "stream",
     "text": [
      "145 오아시스마켓 장보기 [10] 오아시스마켓, 킴스오아시스로 알뜰하게 장보기(+페이코결제)\n"
     ]
    },
    {
     "name": "stderr",
     "output_type": "stream",
     "text": [
      "\r",
      " 29%|███████████████████████▌                                                        | 147/500 [24:51<58:32,  9.95s/it]"
     ]
    },
    {
     "name": "stdout",
     "output_type": "stream",
     "text": [
      "146 오아시스마켓 간식 추천 우리밀 호떡 후기 내돈내산\n"
     ]
    },
    {
     "name": "stderr",
     "output_type": "stream",
     "text": [
      "\r",
      " 30%|███████████████████████▋                                                        | 148/500 [25:01<57:41,  9.83s/it]"
     ]
    },
    {
     "name": "stdout",
     "output_type": "stream",
     "text": [
      "147 7/21 오아시스마켓 장보기 27,163원\n"
     ]
    },
    {
     "name": "stderr",
     "output_type": "stream",
     "text": [
      "\r",
      " 30%|███████████████████████▊                                                        | 149/500 [25:12<59:11, 10.12s/it]"
     ]
    },
    {
     "name": "stdout",
     "output_type": "stream",
     "text": [
      "148 오아시스마켓 장보기, 추천템, 추천인 'water123'\n"
     ]
    },
    {
     "name": "stderr",
     "output_type": "stream",
     "text": [
      "\r",
      " 30%|████████████████████████                                                        | 150/500 [25:21<58:08,  9.97s/it]"
     ]
    },
    {
     "name": "stdout",
     "output_type": "stream",
     "text": [
      "149 오아시스마켓 11월 새벽배송(배추김치, 얼갈이 된장국 재료)\n"
     ]
    },
    {
     "name": "stderr",
     "output_type": "stream",
     "text": [
      "\r",
      " 30%|████████████████████████▏                                                       | 151/500 [25:31<57:50,  9.94s/it]"
     ]
    },
    {
     "name": "stdout",
     "output_type": "stream",
     "text": [
      "150 알뜰장보기 ) 오아시스마켓 x 토스페이 1만원 쿠폰 (타겟)\n"
     ]
    },
    {
     "name": "stderr",
     "output_type": "stream",
     "text": [
      "\r",
      " 30%|████████████████████████▎                                                       | 152/500 [25:41<57:18,  9.88s/it]"
     ]
    },
    {
     "name": "stdout",
     "output_type": "stream",
     "text": [
      "151 또 샀다. 나의 식재료. 오아시스마켓에서.\n"
     ]
    },
    {
     "name": "stderr",
     "output_type": "stream",
     "text": [
      "\r",
      " 31%|████████████████████████▍                                                       | 153/500 [25:50<56:51,  9.83s/it]"
     ]
    },
    {
     "name": "stdout",
     "output_type": "stream",
     "text": [
      "152 새벽배송 오아시스마켓, 소불고기 만들기 꿀팁!!\n"
     ]
    },
    {
     "name": "stderr",
     "output_type": "stream",
     "text": [
      "\r",
      " 31%|████████████████████████▋                                                       | 154/500 [26:00<56:19,  9.77s/it]"
     ]
    },
    {
     "name": "stdout",
     "output_type": "stream",
     "text": [
      "153 알뜰 쇼핑하는 오아시스 마켓\n"
     ]
    },
    {
     "name": "stderr",
     "output_type": "stream",
     "text": [
      "\r",
      " 31%|████████████████████████▊                                                       | 155/500 [26:10<55:51,  9.71s/it]"
     ]
    },
    {
     "name": "stdout",
     "output_type": "stream",
     "text": [
      "154 오아시스마켓 건강한 식재료추천 새벽배송 회원가입(추천인: skyloveyk)\n"
     ]
    },
    {
     "name": "stderr",
     "output_type": "stream",
     "text": [
      "\r",
      " 31%|████████████████████████▉                                                       | 156/500 [26:19<55:40,  9.71s/it]"
     ]
    },
    {
     "name": "stdout",
     "output_type": "stream",
     "text": [
      "155 [오아시스마켓, 새벽배송] 돼지수육, 새우찜\n"
     ]
    },
    {
     "name": "stderr",
     "output_type": "stream",
     "text": [
      "\r",
      " 31%|█████████████████████████                                                       | 157/500 [26:29<55:30,  9.71s/it]"
     ]
    },
    {
     "name": "stdout",
     "output_type": "stream",
     "text": [
      "156 오아시스마켓 구매후기\n"
     ]
    },
    {
     "name": "stderr",
     "output_type": "stream",
     "text": [
      "\r",
      " 32%|█████████████████████████▎                                                      | 158/500 [26:40<56:48,  9.97s/it]"
     ]
    },
    {
     "name": "stdout",
     "output_type": "stream",
     "text": [
      "157 오아시스마켓 새벽배송 신선하고 믿을만한 추천템\n"
     ]
    },
    {
     "name": "stderr",
     "output_type": "stream",
     "text": [
      "\r",
      " 32%|█████████████████████████▍                                                      | 159/500 [26:51<58:35, 10.31s/it]"
     ]
    },
    {
     "name": "stdout",
     "output_type": "stream",
     "text": [
      "158 암사역 오아시스마켓 암사동 생협 아기 이유식 재료 살만한 곳\n"
     ]
    },
    {
     "name": "stderr",
     "output_type": "stream",
     "text": [
      "\r",
      " 32%|█████████████████████████▌                                                      | 160/500 [27:01<57:49, 10.20s/it]"
     ]
    },
    {
     "name": "stdout",
     "output_type": "stream",
     "text": [
      "159 오아시스마켓 유아식 식재료 장보기\n"
     ]
    },
    {
     "name": "stderr",
     "output_type": "stream",
     "text": [
      " 32%|█████████████████████████▌                                                      | 160/500 [27:06<57:37, 10.17s/it]\n"
     ]
    },
    {
     "ename": "NameError",
     "evalue": "name 'diver' is not defined",
     "output_type": "error",
     "traceback": [
      "\u001b[1;31m---------------------------------------------------------------------------\u001b[0m",
      "\u001b[1;31mNoSuchElementException\u001b[0m                    Traceback (most recent call last)",
      "Cell \u001b[1;32mIn[14], line 26\u001b[0m\n\u001b[0;32m     25\u001b[0m \u001b[38;5;66;03m# 제목 추출\u001b[39;00m\n\u001b[1;32m---> 26\u001b[0m tit \u001b[38;5;241m=\u001b[39m driver\u001b[38;5;241m.\u001b[39mfind_element(By\u001b[38;5;241m.\u001b[39mCSS_SELECTOR, \u001b[38;5;124m'\u001b[39m\u001b[38;5;124m.se-module.se-module-text.se-title-text\u001b[39m\u001b[38;5;124m'\u001b[39m)\n\u001b[0;32m     27\u001b[0m title \u001b[38;5;241m=\u001b[39m tit\u001b[38;5;241m.\u001b[39mtext\n",
      "File \u001b[1;32m~\\anaconda3\\Lib\\site-packages\\selenium\\webdriver\\remote\\webdriver.py:741\u001b[0m, in \u001b[0;36mWebDriver.find_element\u001b[1;34m(self, by, value)\u001b[0m\n\u001b[0;32m    739\u001b[0m     value \u001b[38;5;241m=\u001b[39m \u001b[38;5;124mf\u001b[39m\u001b[38;5;124m'\u001b[39m\u001b[38;5;124m[name=\u001b[39m\u001b[38;5;124m\"\u001b[39m\u001b[38;5;132;01m{\u001b[39;00mvalue\u001b[38;5;132;01m}\u001b[39;00m\u001b[38;5;124m\"\u001b[39m\u001b[38;5;124m]\u001b[39m\u001b[38;5;124m'\u001b[39m\n\u001b[1;32m--> 741\u001b[0m \u001b[38;5;28;01mreturn\u001b[39;00m \u001b[38;5;28mself\u001b[39m\u001b[38;5;241m.\u001b[39mexecute(Command\u001b[38;5;241m.\u001b[39mFIND_ELEMENT, {\u001b[38;5;124m\"\u001b[39m\u001b[38;5;124musing\u001b[39m\u001b[38;5;124m\"\u001b[39m: by, \u001b[38;5;124m\"\u001b[39m\u001b[38;5;124mvalue\u001b[39m\u001b[38;5;124m\"\u001b[39m: value})[\u001b[38;5;124m\"\u001b[39m\u001b[38;5;124mvalue\u001b[39m\u001b[38;5;124m\"\u001b[39m]\n",
      "File \u001b[1;32m~\\anaconda3\\Lib\\site-packages\\selenium\\webdriver\\remote\\webdriver.py:347\u001b[0m, in \u001b[0;36mWebDriver.execute\u001b[1;34m(self, driver_command, params)\u001b[0m\n\u001b[0;32m    346\u001b[0m \u001b[38;5;28;01mif\u001b[39;00m response:\n\u001b[1;32m--> 347\u001b[0m     \u001b[38;5;28mself\u001b[39m\u001b[38;5;241m.\u001b[39merror_handler\u001b[38;5;241m.\u001b[39mcheck_response(response)\n\u001b[0;32m    348\u001b[0m     response[\u001b[38;5;124m\"\u001b[39m\u001b[38;5;124mvalue\u001b[39m\u001b[38;5;124m\"\u001b[39m] \u001b[38;5;241m=\u001b[39m \u001b[38;5;28mself\u001b[39m\u001b[38;5;241m.\u001b[39m_unwrap_value(response\u001b[38;5;241m.\u001b[39mget(\u001b[38;5;124m\"\u001b[39m\u001b[38;5;124mvalue\u001b[39m\u001b[38;5;124m\"\u001b[39m, \u001b[38;5;28;01mNone\u001b[39;00m))\n",
      "File \u001b[1;32m~\\anaconda3\\Lib\\site-packages\\selenium\\webdriver\\remote\\errorhandler.py:229\u001b[0m, in \u001b[0;36mErrorHandler.check_response\u001b[1;34m(self, response)\u001b[0m\n\u001b[0;32m    228\u001b[0m     \u001b[38;5;28;01mraise\u001b[39;00m exception_class(message, screen, stacktrace, alert_text)  \u001b[38;5;66;03m# type: ignore[call-arg]  # mypy is not smart enough here\u001b[39;00m\n\u001b[1;32m--> 229\u001b[0m \u001b[38;5;28;01mraise\u001b[39;00m exception_class(message, screen, stacktrace)\n",
      "\u001b[1;31mNoSuchElementException\u001b[0m: Message: no such element: Unable to locate element: {\"method\":\"css selector\",\"selector\":\".se-module.se-module-text.se-title-text\"}\n  (Session info: chrome=119.0.6045.124); For documentation on this error, please visit: https://www.selenium.dev/documentation/webdriver/troubleshooting/errors#no-such-element-exception\nStacktrace:\n\tGetHandleVerifier [0x00007FF649E482B2+55298]\n\t(No symbol) [0x00007FF649DB5E02]\n\t(No symbol) [0x00007FF649C705AB]\n\t(No symbol) [0x00007FF649CB175C]\n\t(No symbol) [0x00007FF649CB18DC]\n\t(No symbol) [0x00007FF649CECBC7]\n\t(No symbol) [0x00007FF649CD20EF]\n\t(No symbol) [0x00007FF649CEAAA4]\n\t(No symbol) [0x00007FF649CD1E83]\n\t(No symbol) [0x00007FF649CA670A]\n\t(No symbol) [0x00007FF649CA7964]\n\tGetHandleVerifier [0x00007FF64A1C0AAB+3694587]\n\tGetHandleVerifier [0x00007FF64A21728E+4048862]\n\tGetHandleVerifier [0x00007FF64A20F173+4015811]\n\tGetHandleVerifier [0x00007FF649EE47D6+695590]\n\t(No symbol) [0x00007FF649DC0CE8]\n\t(No symbol) [0x00007FF649DBCF34]\n\t(No symbol) [0x00007FF649DBD062]\n\t(No symbol) [0x00007FF649DAD3A3]\n\tBaseThreadInitThunk [0x00007FFBA7A1257D+29]\n\tRtlUserThreadStart [0x00007FFBA93EAA78+40]\n",
      "\nDuring handling of the above exception, another exception occurred:\n",
      "\u001b[1;31mNameError\u001b[0m                                 Traceback (most recent call last)",
      "Cell \u001b[1;32mIn[14], line 60\u001b[0m\n\u001b[0;32m     57\u001b[0m     driver\u001b[38;5;241m.\u001b[39mclose()\n\u001b[0;32m     59\u001b[0m \u001b[38;5;28;01mexcept\u001b[39;00m \u001b[38;5;167;01mException\u001b[39;00m \u001b[38;5;28;01mas\u001b[39;00m e:\n\u001b[1;32m---> 60\u001b[0m     diver\u001b[38;5;241m.\u001b[39mclose()\n\u001b[0;32m     61\u001b[0m     time\u001b[38;5;241m.\u001b[39msleep(\u001b[38;5;241m2\u001b[39m)\n\u001b[0;32m     62\u001b[0m     \u001b[38;5;28;01mcontinue\u001b[39;00m\n",
      "\u001b[1;31mNameError\u001b[0m: name 'diver' is not defined"
     ]
    }
   ],
   "source": [
    "from bs4 import BeautifulSoup\n",
    "from selenium import webdriver\n",
    "from selenium.webdriver.common.by import By\n",
    "import time\n",
    "from tqdm import tqdm\n",
    "import pandas as pd\n",
    "\n",
    "data_dict = {}  # 데이터를 저장할 딕셔너리\n",
    "\n",
    "number = 500  # 스크랩할 페이지 수\n",
    "\n",
    "for i in tqdm(range(0, number)):\n",
    "    \n",
    "    url = url_load['url'][i]  # URL을 가져옵니다.\n",
    "    driver = webdriver.Chrome()\n",
    "    driver.get(url)    \n",
    "    time.sleep(3)\n",
    "\n",
    "    try:\n",
    "        driver.switch_to.frame('mainFrame')\n",
    "\n",
    "        # 데이터를 저장할 딕셔너리 초기화\n",
    "        target_info = {}\n",
    "\n",
    "        # 제목 추출\n",
    "        tit = driver.find_element(By.CSS_SELECTOR, '.se-module.se-module-text.se-title-text')\n",
    "        title = tit.text\n",
    "\n",
    "        # 닉네임 추출\n",
    "        nick = driver.find_element(By.CSS_SELECTOR, '.nick')\n",
    "        nickname = nick.text\n",
    "\n",
    "        # 날짜 및 시간 추출\n",
    "        date = driver.find_element(By.CSS_SELECTOR, '.se_publishDate.pcol2')\n",
    "        datetime = date.text\n",
    "\n",
    "        # 내용 추출\n",
    "        contents = driver.find_elements(By.CSS_SELECTOR, '.se-module.se-module-text')\n",
    "        \n",
    "        content_list = []\n",
    "        for content in contents:\n",
    "            content_list.append(content.text)\n",
    "        \n",
    "        content_str = ' '.join(content_list)\n",
    "\n",
    "        # 데이터 딕셔너리에 저장\n",
    "        target_info['title'] = title\n",
    "        target_info['nickname'] = nickname\n",
    "        target_info['datetime'] = datetime\n",
    "        target_info['content'] = content_str\n",
    "\n",
    "        data_dict[i] = target_info\n",
    "        time.sleep(2)\n",
    "\n",
    "        print(i, title)\n",
    "        \n",
    "        driver.close()\n",
    "\n",
    "    except Exception as e:\n",
    "        diver.close()\n",
    "        time.sleep(2)\n",
    "        continue\n",
    "\n",
    "# 스크랩한 데이터를 Pandas 데이터 프레임으로 변환\n",
    "result_df = pd.DataFrame.from_dict(data_dict, orient='index')\n",
    "\n",
    "# 데이터 프레임을 Excel 파일로 저장\n",
    "result_df.to_excel(\"블로그내용크롤링500.xlsx\")\n",
    "\n",
    "print(\"수집한 글 갯수:\", len(data_dict))"
   ]
  },
  {
   "cell_type": "code",
   "execution_count": null,
   "id": "5c92e9f0",
   "metadata": {},
   "outputs": [],
   "source": []
  },
  {
   "cell_type": "code",
   "execution_count": null,
   "id": "6d407823",
   "metadata": {},
   "outputs": [],
   "source": []
  }
 ],
 "metadata": {
  "kernelspec": {
   "display_name": "Python 3 (ipykernel)",
   "language": "python",
   "name": "python3"
  },
  "language_info": {
   "codemirror_mode": {
    "name": "ipython",
    "version": 3
   },
   "file_extension": ".py",
   "mimetype": "text/x-python",
   "name": "python",
   "nbconvert_exporter": "python",
   "pygments_lexer": "ipython3",
   "version": "3.11.5"
  }
 },
 "nbformat": 4,
 "nbformat_minor": 5
}
