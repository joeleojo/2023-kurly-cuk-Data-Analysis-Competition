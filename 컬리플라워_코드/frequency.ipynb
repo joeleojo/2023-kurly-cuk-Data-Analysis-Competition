{
  "cells": [
    {
      "cell_type": "markdown",
      "metadata": {
        "id": "-9qrgYnnsZf2"
      },
      "source": [
        "https://serendipity77.tistory.com/entry/%EC%98%81%ED%99%94%EB%8F%99%EA%B0%90-%EC%98%81%ED%99%94%EB%8F%99%EA%B0%90-%EB%8C%93%EA%B8%80-%EB%A6%AC%EB%B7%B0-%EC%9B%8C%EB%93%9C-%ED%81%B4%EB%9D%BC%EC%9A%B0%EB%93%9Cwordcloud%EB%A1%9C-%EB%A7%8C%EB%93%A4%EC%96%B4%EB%B3%B4%EA%B8%B0%ED%8C%8C%EC%9D%B4%EC%8D%AC-Python"
      ]
    },
    {
      "cell_type": "code",
      "execution_count": null,
      "metadata": {
        "id": "hgWx_PS6q6Es"
      },
      "outputs": [],
      "source": [
        "from wordcloud import WordCloud # 워드클라우드 제작 라이브러리\n",
        "import pandas as pd # 데이터 프레임 라이브러리\n",
        "import numpy as np # 행렬 라이브러리\n",
        "import matplotlib.pyplot as plt # 워드클라우드 시각화 라이브러리\n"
      ]
    },
    {
      "cell_type": "code",
      "execution_count": null,
      "metadata": {
        "colab": {
          "base_uri": "https://localhost:8080/",
          "height": 424
        },
        "id": "-k74q31zrCVj",
        "outputId": "52423e27-b44f-4073-b83f-57b11ac10db3"
      },
      "outputs": [
        {
          "output_type": "execute_result",
          "data": {
            "text/plain": [
              "                                                  title nickname  \\\n",
              "0         마켓컬리 8주년 위크 역대급 특가 추천 상품 포도 계란 소고기 마트보다 저렴하게!     고미리레   \n",
              "1          마켓컬리 떡볶이 분식집 떡볶이 좋아하신다면 추억의 국민학교 떡볶이 드셔 보세요.      코나맘   \n",
              "2                     자취생 재주문 마켓컬리 헤비유저의 실패하지 않는 밀키트 추천      영앤지   \n",
              "3                                낭만어시장 땡초넣은 모듬 조개탕 마켓컬리       단감   \n",
              "4                                 마켓컬리 첫구매 신규가입 쿠폰 추천상품   행복바이러스   \n",
              "...                                                 ...      ...   \n",
              "3988                              마켓컬리 컬리카드 장바구니혜택 챙겨요!   뷰스타 카민   \n",
              "3989                             마켓컬리 추천상품 툭툭누들타이 사왓디만두   우리의 하루   \n",
              "3990                           마켓컬리 오뗄블랙라벨 전지 베이컨/베이컨추천       호냥   \n",
              "3991  쇼핑을 할땐 신규/첫구매 쿠폰을 활용하세요! (feat. 마켓컬리, 11번가 슈팅배...       각인   \n",
              "3992                               포켓몬빵 신상 마켓컬리에서 구입 :)      라임쏭   \n",
              "\n",
              "                datetime                                            content  \n",
              "0     2023. 5. 22. 12:24  리뷰\\n마켓컬리 8주년 위크 역대급 특가 추천 상품 포도 계란 소고기 마트보다 저렴...  \n",
              "1     2023. 5. 24. 23:38  식품 리뷰\\n마켓컬리 떡볶이 분식집 떡볶이 좋아하신다면 추억의 국민학교 떡볶이 드셔...  \n",
              "2     2023. 8. 29. 23:02  [블챌] 체크인 챌린지\\n자취생 재주문 마켓컬리 헤비유저의 실패하지 않는 밀키트 추...  \n",
              "3     2023. 8. 29. 13:29  *내돈내산,직사용후기*\\n낭만어시장 땡초넣은 모듬 조개탕 마켓컬리\\n단감 ・ 202...  \n",
              "4      2023. 2. 24. 9:20  엄마의 장바구니\\n마켓컬리 첫구매 신규가입 쿠폰 추천상품\\n행복바이러스 ・ 2023...  \n",
              "...                  ...                                                ...  \n",
              "3988   2023. 5. 4. 12:00  리뷰\\n마켓컬리 컬리카드 장바구니혜택 챙겨요!\\n뷰스타 카민 ・ 2023. 5. 4...  \n",
              "3989   2023. 1. 28. 9:00  레시피\\n마켓컬리 추천상품 툭툭누들타이 사왓디만두\\n우리의 하루 ・ 2023. 1....  \n",
              "3990   2023. 6. 5. 14:10  일상스토리\\n마켓컬리 오뗄블랙라벨 전지 베이컨/베이컨추천\\n호냥 ・ 2023. 6....  \n",
              "3991  2023. 7. 21. 17:12  정보/감상\\n쇼핑을 할땐 신규/첫구매 쿠폰을 활용하세요! (feat. 마켓컬리, 1...  \n",
              "3992   2023. 2. 8. 17:33  간식타임\\n포켓몬빵 신상 마켓컬리에서 구입 :)\\n라임쏭 ・ 2023. 2. 8. ...  \n",
              "\n",
              "[3993 rows x 4 columns]"
            ],
            "text/html": [
              "\n",
              "  <div id=\"df-4204645d-c38b-41f8-a6d5-e7fcb9e98eb3\" class=\"colab-df-container\">\n",
              "    <div>\n",
              "<style scoped>\n",
              "    .dataframe tbody tr th:only-of-type {\n",
              "        vertical-align: middle;\n",
              "    }\n",
              "\n",
              "    .dataframe tbody tr th {\n",
              "        vertical-align: top;\n",
              "    }\n",
              "\n",
              "    .dataframe thead th {\n",
              "        text-align: right;\n",
              "    }\n",
              "</style>\n",
              "<table border=\"1\" class=\"dataframe\">\n",
              "  <thead>\n",
              "    <tr style=\"text-align: right;\">\n",
              "      <th></th>\n",
              "      <th>title</th>\n",
              "      <th>nickname</th>\n",
              "      <th>datetime</th>\n",
              "      <th>content</th>\n",
              "    </tr>\n",
              "  </thead>\n",
              "  <tbody>\n",
              "    <tr>\n",
              "      <th>0</th>\n",
              "      <td>마켓컬리 8주년 위크 역대급 특가 추천 상품 포도 계란 소고기 마트보다 저렴하게!</td>\n",
              "      <td>고미리레</td>\n",
              "      <td>2023. 5. 22. 12:24</td>\n",
              "      <td>리뷰\\n마켓컬리 8주년 위크 역대급 특가 추천 상품 포도 계란 소고기 마트보다 저렴...</td>\n",
              "    </tr>\n",
              "    <tr>\n",
              "      <th>1</th>\n",
              "      <td>마켓컬리 떡볶이 분식집 떡볶이 좋아하신다면 추억의 국민학교 떡볶이 드셔 보세요.</td>\n",
              "      <td>코나맘</td>\n",
              "      <td>2023. 5. 24. 23:38</td>\n",
              "      <td>식품 리뷰\\n마켓컬리 떡볶이 분식집 떡볶이 좋아하신다면 추억의 국민학교 떡볶이 드셔...</td>\n",
              "    </tr>\n",
              "    <tr>\n",
              "      <th>2</th>\n",
              "      <td>자취생 재주문 마켓컬리 헤비유저의 실패하지 않는 밀키트 추천</td>\n",
              "      <td>영앤지</td>\n",
              "      <td>2023. 8. 29. 23:02</td>\n",
              "      <td>[블챌] 체크인 챌린지\\n자취생 재주문 마켓컬리 헤비유저의 실패하지 않는 밀키트 추...</td>\n",
              "    </tr>\n",
              "    <tr>\n",
              "      <th>3</th>\n",
              "      <td>낭만어시장 땡초넣은 모듬 조개탕 마켓컬리</td>\n",
              "      <td>단감</td>\n",
              "      <td>2023. 8. 29. 13:29</td>\n",
              "      <td>*내돈내산,직사용후기*\\n낭만어시장 땡초넣은 모듬 조개탕 마켓컬리\\n단감 ・ 202...</td>\n",
              "    </tr>\n",
              "    <tr>\n",
              "      <th>4</th>\n",
              "      <td>마켓컬리 첫구매 신규가입 쿠폰 추천상품</td>\n",
              "      <td>행복바이러스</td>\n",
              "      <td>2023. 2. 24. 9:20</td>\n",
              "      <td>엄마의 장바구니\\n마켓컬리 첫구매 신규가입 쿠폰 추천상품\\n행복바이러스 ・ 2023...</td>\n",
              "    </tr>\n",
              "    <tr>\n",
              "      <th>...</th>\n",
              "      <td>...</td>\n",
              "      <td>...</td>\n",
              "      <td>...</td>\n",
              "      <td>...</td>\n",
              "    </tr>\n",
              "    <tr>\n",
              "      <th>3988</th>\n",
              "      <td>마켓컬리 컬리카드 장바구니혜택 챙겨요!</td>\n",
              "      <td>뷰스타 카민</td>\n",
              "      <td>2023. 5. 4. 12:00</td>\n",
              "      <td>리뷰\\n마켓컬리 컬리카드 장바구니혜택 챙겨요!\\n뷰스타 카민 ・ 2023. 5. 4...</td>\n",
              "    </tr>\n",
              "    <tr>\n",
              "      <th>3989</th>\n",
              "      <td>마켓컬리 추천상품 툭툭누들타이 사왓디만두</td>\n",
              "      <td>우리의 하루</td>\n",
              "      <td>2023. 1. 28. 9:00</td>\n",
              "      <td>레시피\\n마켓컬리 추천상품 툭툭누들타이 사왓디만두\\n우리의 하루 ・ 2023. 1....</td>\n",
              "    </tr>\n",
              "    <tr>\n",
              "      <th>3990</th>\n",
              "      <td>마켓컬리 오뗄블랙라벨 전지 베이컨/베이컨추천</td>\n",
              "      <td>호냥</td>\n",
              "      <td>2023. 6. 5. 14:10</td>\n",
              "      <td>일상스토리\\n마켓컬리 오뗄블랙라벨 전지 베이컨/베이컨추천\\n호냥 ・ 2023. 6....</td>\n",
              "    </tr>\n",
              "    <tr>\n",
              "      <th>3991</th>\n",
              "      <td>쇼핑을 할땐 신규/첫구매 쿠폰을 활용하세요! (feat. 마켓컬리, 11번가 슈팅배...</td>\n",
              "      <td>각인</td>\n",
              "      <td>2023. 7. 21. 17:12</td>\n",
              "      <td>정보/감상\\n쇼핑을 할땐 신규/첫구매 쿠폰을 활용하세요! (feat. 마켓컬리, 1...</td>\n",
              "    </tr>\n",
              "    <tr>\n",
              "      <th>3992</th>\n",
              "      <td>포켓몬빵 신상 마켓컬리에서 구입 :)</td>\n",
              "      <td>라임쏭</td>\n",
              "      <td>2023. 2. 8. 17:33</td>\n",
              "      <td>간식타임\\n포켓몬빵 신상 마켓컬리에서 구입 :)\\n라임쏭 ・ 2023. 2. 8. ...</td>\n",
              "    </tr>\n",
              "  </tbody>\n",
              "</table>\n",
              "<p>3993 rows × 4 columns</p>\n",
              "</div>\n",
              "    <div class=\"colab-df-buttons\">\n",
              "\n",
              "  <div class=\"colab-df-container\">\n",
              "    <button class=\"colab-df-convert\" onclick=\"convertToInteractive('df-4204645d-c38b-41f8-a6d5-e7fcb9e98eb3')\"\n",
              "            title=\"Convert this dataframe to an interactive table.\"\n",
              "            style=\"display:none;\">\n",
              "\n",
              "  <svg xmlns=\"http://www.w3.org/2000/svg\" height=\"24px\" viewBox=\"0 -960 960 960\">\n",
              "    <path d=\"M120-120v-720h720v720H120Zm60-500h600v-160H180v160Zm220 220h160v-160H400v160Zm0 220h160v-160H400v160ZM180-400h160v-160H180v160Zm440 0h160v-160H620v160ZM180-180h160v-160H180v160Zm440 0h160v-160H620v160Z\"/>\n",
              "  </svg>\n",
              "    </button>\n",
              "\n",
              "  <style>\n",
              "    .colab-df-container {\n",
              "      display:flex;\n",
              "      gap: 12px;\n",
              "    }\n",
              "\n",
              "    .colab-df-convert {\n",
              "      background-color: #E8F0FE;\n",
              "      border: none;\n",
              "      border-radius: 50%;\n",
              "      cursor: pointer;\n",
              "      display: none;\n",
              "      fill: #1967D2;\n",
              "      height: 32px;\n",
              "      padding: 0 0 0 0;\n",
              "      width: 32px;\n",
              "    }\n",
              "\n",
              "    .colab-df-convert:hover {\n",
              "      background-color: #E2EBFA;\n",
              "      box-shadow: 0px 1px 2px rgba(60, 64, 67, 0.3), 0px 1px 3px 1px rgba(60, 64, 67, 0.15);\n",
              "      fill: #174EA6;\n",
              "    }\n",
              "\n",
              "    .colab-df-buttons div {\n",
              "      margin-bottom: 4px;\n",
              "    }\n",
              "\n",
              "    [theme=dark] .colab-df-convert {\n",
              "      background-color: #3B4455;\n",
              "      fill: #D2E3FC;\n",
              "    }\n",
              "\n",
              "    [theme=dark] .colab-df-convert:hover {\n",
              "      background-color: #434B5C;\n",
              "      box-shadow: 0px 1px 3px 1px rgba(0, 0, 0, 0.15);\n",
              "      filter: drop-shadow(0px 1px 2px rgba(0, 0, 0, 0.3));\n",
              "      fill: #FFFFFF;\n",
              "    }\n",
              "  </style>\n",
              "\n",
              "    <script>\n",
              "      const buttonEl =\n",
              "        document.querySelector('#df-4204645d-c38b-41f8-a6d5-e7fcb9e98eb3 button.colab-df-convert');\n",
              "      buttonEl.style.display =\n",
              "        google.colab.kernel.accessAllowed ? 'block' : 'none';\n",
              "\n",
              "      async function convertToInteractive(key) {\n",
              "        const element = document.querySelector('#df-4204645d-c38b-41f8-a6d5-e7fcb9e98eb3');\n",
              "        const dataTable =\n",
              "          await google.colab.kernel.invokeFunction('convertToInteractive',\n",
              "                                                    [key], {});\n",
              "        if (!dataTable) return;\n",
              "\n",
              "        const docLinkHtml = 'Like what you see? Visit the ' +\n",
              "          '<a target=\"_blank\" href=https://colab.research.google.com/notebooks/data_table.ipynb>data table notebook</a>'\n",
              "          + ' to learn more about interactive tables.';\n",
              "        element.innerHTML = '';\n",
              "        dataTable['output_type'] = 'display_data';\n",
              "        await google.colab.output.renderOutput(dataTable, element);\n",
              "        const docLink = document.createElement('div');\n",
              "        docLink.innerHTML = docLinkHtml;\n",
              "        element.appendChild(docLink);\n",
              "      }\n",
              "    </script>\n",
              "  </div>\n",
              "\n",
              "\n",
              "<div id=\"df-228426a7-949d-4b2b-bd72-e5d9c4412b77\">\n",
              "  <button class=\"colab-df-quickchart\" onclick=\"quickchart('df-228426a7-949d-4b2b-bd72-e5d9c4412b77')\"\n",
              "            title=\"Suggest charts\"\n",
              "            style=\"display:none;\">\n",
              "\n",
              "<svg xmlns=\"http://www.w3.org/2000/svg\" height=\"24px\"viewBox=\"0 0 24 24\"\n",
              "     width=\"24px\">\n",
              "    <g>\n",
              "        <path d=\"M19 3H5c-1.1 0-2 .9-2 2v14c0 1.1.9 2 2 2h14c1.1 0 2-.9 2-2V5c0-1.1-.9-2-2-2zM9 17H7v-7h2v7zm4 0h-2V7h2v10zm4 0h-2v-4h2v4z\"/>\n",
              "    </g>\n",
              "</svg>\n",
              "  </button>\n",
              "\n",
              "<style>\n",
              "  .colab-df-quickchart {\n",
              "      --bg-color: #E8F0FE;\n",
              "      --fill-color: #1967D2;\n",
              "      --hover-bg-color: #E2EBFA;\n",
              "      --hover-fill-color: #174EA6;\n",
              "      --disabled-fill-color: #AAA;\n",
              "      --disabled-bg-color: #DDD;\n",
              "  }\n",
              "\n",
              "  [theme=dark] .colab-df-quickchart {\n",
              "      --bg-color: #3B4455;\n",
              "      --fill-color: #D2E3FC;\n",
              "      --hover-bg-color: #434B5C;\n",
              "      --hover-fill-color: #FFFFFF;\n",
              "      --disabled-bg-color: #3B4455;\n",
              "      --disabled-fill-color: #666;\n",
              "  }\n",
              "\n",
              "  .colab-df-quickchart {\n",
              "    background-color: var(--bg-color);\n",
              "    border: none;\n",
              "    border-radius: 50%;\n",
              "    cursor: pointer;\n",
              "    display: none;\n",
              "    fill: var(--fill-color);\n",
              "    height: 32px;\n",
              "    padding: 0;\n",
              "    width: 32px;\n",
              "  }\n",
              "\n",
              "  .colab-df-quickchart:hover {\n",
              "    background-color: var(--hover-bg-color);\n",
              "    box-shadow: 0 1px 2px rgba(60, 64, 67, 0.3), 0 1px 3px 1px rgba(60, 64, 67, 0.15);\n",
              "    fill: var(--button-hover-fill-color);\n",
              "  }\n",
              "\n",
              "  .colab-df-quickchart-complete:disabled,\n",
              "  .colab-df-quickchart-complete:disabled:hover {\n",
              "    background-color: var(--disabled-bg-color);\n",
              "    fill: var(--disabled-fill-color);\n",
              "    box-shadow: none;\n",
              "  }\n",
              "\n",
              "  .colab-df-spinner {\n",
              "    border: 2px solid var(--fill-color);\n",
              "    border-color: transparent;\n",
              "    border-bottom-color: var(--fill-color);\n",
              "    animation:\n",
              "      spin 1s steps(1) infinite;\n",
              "  }\n",
              "\n",
              "  @keyframes spin {\n",
              "    0% {\n",
              "      border-color: transparent;\n",
              "      border-bottom-color: var(--fill-color);\n",
              "      border-left-color: var(--fill-color);\n",
              "    }\n",
              "    20% {\n",
              "      border-color: transparent;\n",
              "      border-left-color: var(--fill-color);\n",
              "      border-top-color: var(--fill-color);\n",
              "    }\n",
              "    30% {\n",
              "      border-color: transparent;\n",
              "      border-left-color: var(--fill-color);\n",
              "      border-top-color: var(--fill-color);\n",
              "      border-right-color: var(--fill-color);\n",
              "    }\n",
              "    40% {\n",
              "      border-color: transparent;\n",
              "      border-right-color: var(--fill-color);\n",
              "      border-top-color: var(--fill-color);\n",
              "    }\n",
              "    60% {\n",
              "      border-color: transparent;\n",
              "      border-right-color: var(--fill-color);\n",
              "    }\n",
              "    80% {\n",
              "      border-color: transparent;\n",
              "      border-right-color: var(--fill-color);\n",
              "      border-bottom-color: var(--fill-color);\n",
              "    }\n",
              "    90% {\n",
              "      border-color: transparent;\n",
              "      border-bottom-color: var(--fill-color);\n",
              "    }\n",
              "  }\n",
              "</style>\n",
              "\n",
              "  <script>\n",
              "    async function quickchart(key) {\n",
              "      const quickchartButtonEl =\n",
              "        document.querySelector('#' + key + ' button');\n",
              "      quickchartButtonEl.disabled = true;  // To prevent multiple clicks.\n",
              "      quickchartButtonEl.classList.add('colab-df-spinner');\n",
              "      try {\n",
              "        const charts = await google.colab.kernel.invokeFunction(\n",
              "            'suggestCharts', [key], {});\n",
              "      } catch (error) {\n",
              "        console.error('Error during call to suggestCharts:', error);\n",
              "      }\n",
              "      quickchartButtonEl.classList.remove('colab-df-spinner');\n",
              "      quickchartButtonEl.classList.add('colab-df-quickchart-complete');\n",
              "    }\n",
              "    (() => {\n",
              "      let quickchartButtonEl =\n",
              "        document.querySelector('#df-228426a7-949d-4b2b-bd72-e5d9c4412b77 button');\n",
              "      quickchartButtonEl.style.display =\n",
              "        google.colab.kernel.accessAllowed ? 'block' : 'none';\n",
              "    })();\n",
              "  </script>\n",
              "</div>\n",
              "    </div>\n",
              "  </div>\n"
            ]
          },
          "metadata": {},
          "execution_count": 5
        }
      ],
      "source": [
        "#df = pd.read_csv('oasis_final.csv',encoding='cp949')\n",
        "df = pd.read_csv('Market_kurly.csv',encoding='utf-8')\n",
        "df\n"
      ]
    },
    {
      "cell_type": "code",
      "execution_count": null,
      "metadata": {
        "colab": {
          "base_uri": "https://localhost:8080/"
        },
        "id": "V_jG-F5_rCzV",
        "outputId": "d1bea6e2-1721-490a-eed7-bacd16897759"
      },
      "outputs": [
        {
          "output_type": "execute_result",
          "data": {
            "text/plain": [
              "0       리뷰 마켓컬리  주년 위크 역대급 특가 추천 상품 포도 계란 소고기 마트보다 저렴하...\n",
              "1       식품 리뷰 마켓컬리 떡볶이 분식집 떡볶이 좋아하신다면 추억의 국민학교 떡볶이 드셔 ...\n",
              "2        블챌  체크인 챌린지 자취생 재주문 마켓컬리 헤비유저의 실패하지 않는 밀키트 추천...\n",
              "3        내돈내산 직사용후기  낭만어시장 땡초넣은 모듬 조개탕 마켓컬리 단감        ...\n",
              "4       엄마의 장바구니 마켓컬리 첫구매 신규가입 쿠폰 추천상품 행복바이러스         ...\n",
              "                              ...                        \n",
              "3988    리뷰 마켓컬리 컬리카드 장바구니혜택 챙겨요  뷰스타 카민               ...\n",
              "3989    레시피 마켓컬리 추천상품 툭툭누들타이 사왓디만두 우리의 하루             ...\n",
              "3990    일상스토리 마켓컬리 오뗄블랙라벨 전지 베이컨 베이컨추천 호냥             ...\n",
              "3991    정보 감상 쇼핑을 할땐 신규 첫구매 쿠폰을 활용하세요         마켓컬리    ...\n",
              "3992    간식타임 포켓몬빵 신상 마켓컬리에서 구입    라임쏭                 ...\n",
              "Name: content, Length: 3993, dtype: object"
            ]
          },
          "metadata": {},
          "execution_count": 6
        }
      ],
      "source": [
        "df['content'] = df['content'].str.replace('[^가-힣]', ' ', regex = True)\n",
        "df['content']\n"
      ]
    },
    {
      "cell_type": "code",
      "execution_count": null,
      "metadata": {
        "colab": {
          "base_uri": "https://localhost:8080/"
        },
        "id": "yODx4kL6rqRq",
        "outputId": "69ad4736-77ca-4957-f14c-8586fb0aed11"
      },
      "outputs": [
        {
          "output_type": "stream",
          "name": "stdout",
          "text": [
            "Requirement already satisfied: konlpy in /usr/local/lib/python3.10/dist-packages (0.6.0)\n",
            "Requirement already satisfied: JPype1>=0.7.0 in /usr/local/lib/python3.10/dist-packages (from konlpy) (1.4.1)\n",
            "Requirement already satisfied: lxml>=4.1.0 in /usr/local/lib/python3.10/dist-packages (from konlpy) (4.9.3)\n",
            "Requirement already satisfied: numpy>=1.6 in /usr/local/lib/python3.10/dist-packages (from konlpy) (1.23.5)\n",
            "Requirement already satisfied: packaging in /usr/local/lib/python3.10/dist-packages (from JPype1>=0.7.0->konlpy) (23.2)\n"
          ]
        }
      ],
      "source": [
        "pip install konlpy"
      ]
    },
    {
      "cell_type": "code",
      "execution_count": null,
      "metadata": {
        "id": "UmIji62irC2B"
      },
      "outputs": [],
      "source": [
        "import konlpy\n",
        "kkma = konlpy.tag.Kkma() #형태소 분석기 꼬꼬마(Kkma)\n",
        "\n",
        "nouns = df['content'].apply(kkma.nouns)\n",
        "nouns\n"
      ]
    },
    {
      "cell_type": "code",
      "execution_count": null,
      "metadata": {
        "id": "-iXIDCrPrC4s"
      },
      "outputs": [],
      "source": [
        "nouns = nouns.explode()\n",
        "nouns"
      ]
    },
    {
      "cell_type": "code",
      "execution_count": null,
      "metadata": {
        "id": "PV7jhj5krC7o"
      },
      "outputs": [],
      "source": [
        "df_word = pd.DataFrame({'word' : nouns})\n",
        "df_word['count'] = df_word['word'].str.len()\n",
        "df_word = df_word.query('count >= 2')\n",
        "df_word\n"
      ]
    },
    {
      "cell_type": "code",
      "execution_count": null,
      "metadata": {
        "id": "yqfbP4iurC-i"
      },
      "outputs": [],
      "source": [
        "df_word = df_word.groupby('word', as_index = False).count().sort_values('count', ascending = False)\n",
        "df_word\n"
      ]
    },
    {
      "cell_type": "code",
      "execution_count": null,
      "metadata": {
        "id": "q0OJzayhsF82"
      },
      "outputs": [],
      "source": [
        "# 영화처럼 불필요한 단어 제거\n",
        "df_word = df_word.iloc[15:, :]\n",
        "df_word.head(5)\n"
      ]
    },
    {
      "cell_type": "code",
      "execution_count": null,
      "metadata": {
        "id": "33cUfDuhsF4D"
      },
      "outputs": [],
      "source": [
        "dic_word = df_word.set_index('word').to_dict()['count']\n",
        "dic_word"
      ]
    },
    {
      "cell_type": "code",
      "execution_count": null,
      "metadata": {
        "id": "wnCWjB05tlyq"
      },
      "outputs": [],
      "source": [
        "#워드클라우드 라이브러리 불러오기\n",
        "import matplotlib.pyplot as plt\n",
        "from wordcloud import WordCloud\n",
        "import platform\n",
        "\n",
        "#폰트 경로 설정\n",
        "font_path = \"c:/Windows/Fonts/malgun.ttf\""
      ]
    },
    {
      "cell_type": "code",
      "execution_count": null,
      "metadata": {
        "id": "V5jdGabM1rbd"
      },
      "outputs": [],
      "source": [
        "# 문자열의 빈도수를 계산합니다\n",
        "word_counts = {}\n",
        "for word in dic_word:\n",
        "    if word not in word_counts:\n",
        "        word_counts[word] = 1\n",
        "    else:\n",
        "        word_counts[word] += 1\n",
        "\n",
        "# 빈도수를 내림차순으로 정렬합니다\n",
        "sorted_word_counts = sorted(word_counts.items(), key=lambda x: x[1], reverse=True)\n",
        "\n",
        "# 출력합니다\n",
        "for word, count in sorted_word_counts:\n",
        "    print(word, count)"
      ]
    },
    {
      "cell_type": "code",
      "execution_count": null,
      "metadata": {
        "id": "2raWEy1O16al"
      },
      "outputs": [],
      "source": [
        "# 워드 클라우드 생성\n",
        "wordcloud = WordCloud(font_path='C:/Windows/Fonts/malgun.ttf',\n",
        "                      background_color='white',\n",
        "                      width=800,\n",
        "                      height=600).generate_from_frequencies(word_counts)\n",
        "\n",
        "# 워드 클라우드를 화면에 표시\n",
        "plt.figure(figsize=(10, 8))\n",
        "plt.imshow(wordcloud, interpolation='bilinear')\n",
        "plt.axis('off')\n",
        "plt.show()"
      ]
    },
    {
      "cell_type": "code",
      "execution_count": null,
      "metadata": {
        "id": "uiwbVndzy4ZK"
      },
      "outputs": [],
      "source": [
        "# 워드 클라우드 생성\n",
        "wordcloud = WordCloud(font_path='C:/Windows/Fonts/HYPost.ttf',\n",
        "                      background_color='white',\n",
        "                      width=800,\n",
        "                      height=600).generate_from_frequencies(word_counts)\n",
        "\n",
        "# 워드 클라우드를 화면에 표시\n",
        "plt.figure(figsize=(10, 8))\n",
        "plt.imshow(wordcloud, interpolation='bilinear')\n",
        "plt.axis('off')\n",
        "plt.show()"
      ]
    },
    {
      "cell_type": "code",
      "execution_count": null,
      "metadata": {
        "id": "1RsyzmM0y4Vg"
      },
      "outputs": [],
      "source": [
        "\n",
        "import re\n",
        "import matplotlib.pyplot as plt\n",
        "from wordcloud import WordCloud\n",
        "\n",
        "# 텍스트 파일을 읽습니다 (utf-8 인코딩으로 지정)\n",
        "with open(\"123korea.txt\", \"r\", encoding=\"utf-8\") as f:\n",
        "    text = f.read()\n",
        "\n",
        "# 문자열을 정규 표현식으로 분리합니다\n",
        "words = re.split(r\"\\W+\", text)\n",
        "\n",
        "# 문자열의 빈도수를 계산합니다\n",
        "word_counts = {}\n",
        "for word in words:\n",
        "    if word not in word_counts:\n",
        "        word_counts[word] = 1\n",
        "    else:\n",
        "        word_counts[word] += 1\n",
        "\n",
        "# 빈도수를 내림차순으로 정렬합니다\n",
        "sorted_word_counts = sorted(word_counts.items(), key=lambda x: x[1], reverse=True)\n",
        "\n",
        "# 출력합니다\n",
        "for word, count in sorted_word_counts:\n",
        "    print(word, count)\n",
        "\n",
        "# 워드 클라우드 생성\n",
        "wordcloud = WordCloud(font_path='C:/Windows/Fonts/malgun.ttf',\n",
        "                      background_color='white',\n",
        "                      width=800,\n",
        "                      height=600).generate_from_frequencies(word_counts)\n",
        "\n",
        "# 워드 클라우드를 화면에 표시\n",
        "plt.figure(figsize=(10, 8))\n",
        "plt.imshow(wordcloud, interpolation='bilinear')\n",
        "plt.axis('off')\n",
        "plt.show()"
      ]
    },
    {
      "cell_type": "code",
      "execution_count": null,
      "metadata": {
        "id": "Uk9txSSOy4SB"
      },
      "outputs": [],
      "source": []
    },
    {
      "cell_type": "code",
      "execution_count": null,
      "metadata": {
        "id": "HNLSnRLQy4Eq"
      },
      "outputs": [],
      "source": []
    },
    {
      "cell_type": "code",
      "execution_count": null,
      "metadata": {
        "id": "HGThMq_csFzt"
      },
      "outputs": [],
      "source": [
        "#wc = WordCloud(random_state = 123, font_path = 'AppleGothic', width = 400,\n",
        " #              height = 400, background_color = 'white')\n",
        "wc = WordCloud(font_path='C:/Windows/Fonts/malgun.ttf',\n",
        "               background_color=\"white\",\n",
        "               relative_scaling=1\n",
        "               )\n",
        "wc = wc.generate_from_frequencies(dic_word)\n",
        "img_wordcloud = wc.generate_from_frequencies(dic_word)\n",
        "\n",
        "plt.figure(figsize = (10, 10)) # 크기 지정하기\n",
        "plt.axis('off') # 축 없애기\n",
        "plt.imshow(wc) # 결과 보여주기\n",
        "plt.savefig('동감_워드클라우드') # 파일 저장\n"
      ]
    },
    {
      "cell_type": "code",
      "execution_count": null,
      "metadata": {
        "id": "WXkLkbP4sFpM"
      },
      "outputs": [],
      "source": []
    }
  ],
  "metadata": {
    "colab": {
      "provenance": [],
      "gpuType": "T4"
    },
    "kernelspec": {
      "display_name": "Python 3",
      "name": "python3"
    },
    "language_info": {
      "name": "python"
    },
    "accelerator": "GPU"
  },
  "nbformat": 4,
  "nbformat_minor": 0
}